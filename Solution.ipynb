{
  "metadata": {
    "kernelspec": {
      "language": "python",
      "display_name": "Python 3",
      "name": "python3"
    },
    "language_info": {
      "name": "python",
      "version": "3.7.9",
      "mimetype": "text/x-python",
      "codemirror_mode": {
        "name": "ipython",
        "version": 3
      },
      "pygments_lexer": "ipython3",
      "nbconvert_exporter": "python",
      "file_extension": ".py"
    },
    "kaggle": {
      "accelerator": "none",
      "dataSources": [
        {
          "sourceId": 368079,
          "sourceType": "datasetVersion",
          "datasetId": 160894
        }
      ],
      "dockerImageVersionId": 30066,
      "isInternetEnabled": false,
      "language": "python",
      "sourceType": "notebook",
      "isGpuEnabled": false
    },
    "colab": {
      "provenance": []
    }
  },
  "nbformat_minor": 0,
  "nbformat": 4,
  "cells": [
    {
      "cell_type": "code",
      "source": [
        "import warnings\n",
        "warnings.filterwarnings('ignore')\n",
        "\n",
        "import numpy as np\n",
        "import matplotlib.pyplot as plt\n",
        "import pandas as pd\n",
        "import numpy as np\n",
        "import seaborn as sns\n",
        "import sys\n",
        "from sklearn.linear_model import LogisticRegression\n",
        "from sklearn.preprocessing import StandardScaler\n",
        "from sklearn.feature_selection import RFE\n",
        "from sklearn.model_selection import train_test_split\n",
        "from sklearn.preprocessing import OrdinalEncoder\n",
        "from sklearn.preprocessing import OneHotEncoder\n",
        "from sklearn.preprocessing import LabelEncoder\n",
        "from sklearn.compose import ColumnTransformer\n",
        "from sklearn.pipeline import Pipeline\n",
        "from sklearn.impute import SimpleImputer\n",
        "from collections import Counter"
      ],
      "metadata": {
        "execution": {
          "iopub.status.busy": "2024-01-18T12:24:11.272807Z",
          "iopub.execute_input": "2024-01-18T12:24:11.273320Z",
          "iopub.status.idle": "2024-01-18T12:24:13.040143Z",
          "shell.execute_reply.started": "2024-01-18T12:24:11.273214Z",
          "shell.execute_reply": "2024-01-18T12:24:13.038880Z"
        },
        "trusted": true,
        "id": "0WKUAW-KuEt6"
      },
      "execution_count": 7,
      "outputs": []
    },
    {
      "cell_type": "code",
      "source": [
        "%config Completer.use_jedi = False\n",
        "\n",
        "sns.set(style=\"white\")\n",
        "sns.set(style=\"whitegrid\", color_codes=True)\n",
        "\n",
        "np.set_printoptions(threshold=sys.maxsize)\n",
        "\n",
        "pd.set_option('display.max_rows', 500)\n",
        "pd.set_option('display.max_columns', 500)\n",
        "%matplotlib inline"
      ],
      "metadata": {
        "execution": {
          "iopub.status.busy": "2024-01-18T12:24:13.069313Z",
          "iopub.execute_input": "2024-01-18T12:24:13.071664Z",
          "iopub.status.idle": "2024-01-18T12:24:13.106216Z",
          "shell.execute_reply.started": "2024-01-18T12:24:13.071612Z",
          "shell.execute_reply": "2024-01-18T12:24:13.105053Z"
        },
        "trusted": true,
        "id": "LW5RbVKRuEt8"
      },
      "execution_count": 8,
      "outputs": []
    },
    {
      "cell_type": "code",
      "source": [
        "from google.colab import drive\n",
        "drive.mount('/content/drive')"
      ],
      "metadata": {
        "colab": {
          "base_uri": "https://localhost:8080/"
        },
        "id": "1Y6THMehujBP",
        "outputId": "9b6fb39c-04f0-498b-ddbd-d4947b6ff7d3"
      },
      "execution_count": 5,
      "outputs": [
        {
          "output_type": "stream",
          "name": "stdout",
          "text": [
            "Drive already mounted at /content/drive; to attempt to forcibly remount, call drive.mount(\"/content/drive\", force_remount=True).\n"
          ]
        }
      ]
    },
    {
      "cell_type": "code",
      "source": [
        "path=\"/content/drive/MyDrive/bank-full.csv\"\n",
        "df = pd.read_csv(path ,sep=';')\n",
        "df.head()"
      ],
      "metadata": {
        "scrolled": true,
        "execution": {
          "iopub.status.busy": "2024-01-18T12:24:13.111568Z",
          "iopub.execute_input": "2024-01-18T12:24:13.114013Z",
          "iopub.status.idle": "2024-01-18T12:24:13.380207Z",
          "shell.execute_reply.started": "2024-01-18T12:24:13.113954Z",
          "shell.execute_reply": "2024-01-18T12:24:13.379093Z"
        },
        "trusted": true,
        "colab": {
          "base_uri": "https://localhost:8080/",
          "height": 226
        },
        "id": "pbw-j9OduEt8",
        "outputId": "9a6c41b8-a892-4f04-ac04-af717ac1e806"
      },
      "execution_count": 9,
      "outputs": [
        {
          "output_type": "execute_result",
          "data": {
            "text/plain": [
              "   age           job  marital  education default  balance housing loan  \\\n",
              "0   58    management  married   tertiary      no     2143     yes   no   \n",
              "1   44    technician   single  secondary      no       29     yes   no   \n",
              "2   33  entrepreneur  married  secondary      no        2     yes  yes   \n",
              "3   47   blue-collar  married    unknown      no     1506     yes   no   \n",
              "4   33       unknown   single    unknown      no        1      no   no   \n",
              "\n",
              "   contact  day month  duration  campaign  pdays  previous poutcome   y  \n",
              "0  unknown    5   may       261         1     -1         0  unknown  no  \n",
              "1  unknown    5   may       151         1     -1         0  unknown  no  \n",
              "2  unknown    5   may        76         1     -1         0  unknown  no  \n",
              "3  unknown    5   may        92         1     -1         0  unknown  no  \n",
              "4  unknown    5   may       198         1     -1         0  unknown  no  "
            ],
            "text/html": [
              "\n",
              "  <div id=\"df-bbded547-aec3-4ebb-8aa8-de8b0e97845f\" class=\"colab-df-container\">\n",
              "    <div>\n",
              "<style scoped>\n",
              "    .dataframe tbody tr th:only-of-type {\n",
              "        vertical-align: middle;\n",
              "    }\n",
              "\n",
              "    .dataframe tbody tr th {\n",
              "        vertical-align: top;\n",
              "    }\n",
              "\n",
              "    .dataframe thead th {\n",
              "        text-align: right;\n",
              "    }\n",
              "</style>\n",
              "<table border=\"1\" class=\"dataframe\">\n",
              "  <thead>\n",
              "    <tr style=\"text-align: right;\">\n",
              "      <th></th>\n",
              "      <th>age</th>\n",
              "      <th>job</th>\n",
              "      <th>marital</th>\n",
              "      <th>education</th>\n",
              "      <th>default</th>\n",
              "      <th>balance</th>\n",
              "      <th>housing</th>\n",
              "      <th>loan</th>\n",
              "      <th>contact</th>\n",
              "      <th>day</th>\n",
              "      <th>month</th>\n",
              "      <th>duration</th>\n",
              "      <th>campaign</th>\n",
              "      <th>pdays</th>\n",
              "      <th>previous</th>\n",
              "      <th>poutcome</th>\n",
              "      <th>y</th>\n",
              "    </tr>\n",
              "  </thead>\n",
              "  <tbody>\n",
              "    <tr>\n",
              "      <th>0</th>\n",
              "      <td>58</td>\n",
              "      <td>management</td>\n",
              "      <td>married</td>\n",
              "      <td>tertiary</td>\n",
              "      <td>no</td>\n",
              "      <td>2143</td>\n",
              "      <td>yes</td>\n",
              "      <td>no</td>\n",
              "      <td>unknown</td>\n",
              "      <td>5</td>\n",
              "      <td>may</td>\n",
              "      <td>261</td>\n",
              "      <td>1</td>\n",
              "      <td>-1</td>\n",
              "      <td>0</td>\n",
              "      <td>unknown</td>\n",
              "      <td>no</td>\n",
              "    </tr>\n",
              "    <tr>\n",
              "      <th>1</th>\n",
              "      <td>44</td>\n",
              "      <td>technician</td>\n",
              "      <td>single</td>\n",
              "      <td>secondary</td>\n",
              "      <td>no</td>\n",
              "      <td>29</td>\n",
              "      <td>yes</td>\n",
              "      <td>no</td>\n",
              "      <td>unknown</td>\n",
              "      <td>5</td>\n",
              "      <td>may</td>\n",
              "      <td>151</td>\n",
              "      <td>1</td>\n",
              "      <td>-1</td>\n",
              "      <td>0</td>\n",
              "      <td>unknown</td>\n",
              "      <td>no</td>\n",
              "    </tr>\n",
              "    <tr>\n",
              "      <th>2</th>\n",
              "      <td>33</td>\n",
              "      <td>entrepreneur</td>\n",
              "      <td>married</td>\n",
              "      <td>secondary</td>\n",
              "      <td>no</td>\n",
              "      <td>2</td>\n",
              "      <td>yes</td>\n",
              "      <td>yes</td>\n",
              "      <td>unknown</td>\n",
              "      <td>5</td>\n",
              "      <td>may</td>\n",
              "      <td>76</td>\n",
              "      <td>1</td>\n",
              "      <td>-1</td>\n",
              "      <td>0</td>\n",
              "      <td>unknown</td>\n",
              "      <td>no</td>\n",
              "    </tr>\n",
              "    <tr>\n",
              "      <th>3</th>\n",
              "      <td>47</td>\n",
              "      <td>blue-collar</td>\n",
              "      <td>married</td>\n",
              "      <td>unknown</td>\n",
              "      <td>no</td>\n",
              "      <td>1506</td>\n",
              "      <td>yes</td>\n",
              "      <td>no</td>\n",
              "      <td>unknown</td>\n",
              "      <td>5</td>\n",
              "      <td>may</td>\n",
              "      <td>92</td>\n",
              "      <td>1</td>\n",
              "      <td>-1</td>\n",
              "      <td>0</td>\n",
              "      <td>unknown</td>\n",
              "      <td>no</td>\n",
              "    </tr>\n",
              "    <tr>\n",
              "      <th>4</th>\n",
              "      <td>33</td>\n",
              "      <td>unknown</td>\n",
              "      <td>single</td>\n",
              "      <td>unknown</td>\n",
              "      <td>no</td>\n",
              "      <td>1</td>\n",
              "      <td>no</td>\n",
              "      <td>no</td>\n",
              "      <td>unknown</td>\n",
              "      <td>5</td>\n",
              "      <td>may</td>\n",
              "      <td>198</td>\n",
              "      <td>1</td>\n",
              "      <td>-1</td>\n",
              "      <td>0</td>\n",
              "      <td>unknown</td>\n",
              "      <td>no</td>\n",
              "    </tr>\n",
              "  </tbody>\n",
              "</table>\n",
              "</div>\n",
              "    <div class=\"colab-df-buttons\">\n",
              "\n",
              "  <div class=\"colab-df-container\">\n",
              "    <button class=\"colab-df-convert\" onclick=\"convertToInteractive('df-bbded547-aec3-4ebb-8aa8-de8b0e97845f')\"\n",
              "            title=\"Convert this dataframe to an interactive table.\"\n",
              "            style=\"display:none;\">\n",
              "\n",
              "  <svg xmlns=\"http://www.w3.org/2000/svg\" height=\"24px\" viewBox=\"0 -960 960 960\">\n",
              "    <path d=\"M120-120v-720h720v720H120Zm60-500h600v-160H180v160Zm220 220h160v-160H400v160Zm0 220h160v-160H400v160ZM180-400h160v-160H180v160Zm440 0h160v-160H620v160ZM180-180h160v-160H180v160Zm440 0h160v-160H620v160Z\"/>\n",
              "  </svg>\n",
              "    </button>\n",
              "\n",
              "  <style>\n",
              "    .colab-df-container {\n",
              "      display:flex;\n",
              "      gap: 12px;\n",
              "    }\n",
              "\n",
              "    .colab-df-convert {\n",
              "      background-color: #E8F0FE;\n",
              "      border: none;\n",
              "      border-radius: 50%;\n",
              "      cursor: pointer;\n",
              "      display: none;\n",
              "      fill: #1967D2;\n",
              "      height: 32px;\n",
              "      padding: 0 0 0 0;\n",
              "      width: 32px;\n",
              "    }\n",
              "\n",
              "    .colab-df-convert:hover {\n",
              "      background-color: #E2EBFA;\n",
              "      box-shadow: 0px 1px 2px rgba(60, 64, 67, 0.3), 0px 1px 3px 1px rgba(60, 64, 67, 0.15);\n",
              "      fill: #174EA6;\n",
              "    }\n",
              "\n",
              "    .colab-df-buttons div {\n",
              "      margin-bottom: 4px;\n",
              "    }\n",
              "\n",
              "    [theme=dark] .colab-df-convert {\n",
              "      background-color: #3B4455;\n",
              "      fill: #D2E3FC;\n",
              "    }\n",
              "\n",
              "    [theme=dark] .colab-df-convert:hover {\n",
              "      background-color: #434B5C;\n",
              "      box-shadow: 0px 1px 3px 1px rgba(0, 0, 0, 0.15);\n",
              "      filter: drop-shadow(0px 1px 2px rgba(0, 0, 0, 0.3));\n",
              "      fill: #FFFFFF;\n",
              "    }\n",
              "  </style>\n",
              "\n",
              "    <script>\n",
              "      const buttonEl =\n",
              "        document.querySelector('#df-bbded547-aec3-4ebb-8aa8-de8b0e97845f button.colab-df-convert');\n",
              "      buttonEl.style.display =\n",
              "        google.colab.kernel.accessAllowed ? 'block' : 'none';\n",
              "\n",
              "      async function convertToInteractive(key) {\n",
              "        const element = document.querySelector('#df-bbded547-aec3-4ebb-8aa8-de8b0e97845f');\n",
              "        const dataTable =\n",
              "          await google.colab.kernel.invokeFunction('convertToInteractive',\n",
              "                                                    [key], {});\n",
              "        if (!dataTable) return;\n",
              "\n",
              "        const docLinkHtml = 'Like what you see? Visit the ' +\n",
              "          '<a target=\"_blank\" href=https://colab.research.google.com/notebooks/data_table.ipynb>data table notebook</a>'\n",
              "          + ' to learn more about interactive tables.';\n",
              "        element.innerHTML = '';\n",
              "        dataTable['output_type'] = 'display_data';\n",
              "        await google.colab.output.renderOutput(dataTable, element);\n",
              "        const docLink = document.createElement('div');\n",
              "        docLink.innerHTML = docLinkHtml;\n",
              "        element.appendChild(docLink);\n",
              "      }\n",
              "    </script>\n",
              "  </div>\n",
              "\n",
              "\n",
              "<div id=\"df-fa08e18c-3a4f-463b-8960-7756ba729e62\">\n",
              "  <button class=\"colab-df-quickchart\" onclick=\"quickchart('df-fa08e18c-3a4f-463b-8960-7756ba729e62')\"\n",
              "            title=\"Suggest charts\"\n",
              "            style=\"display:none;\">\n",
              "\n",
              "<svg xmlns=\"http://www.w3.org/2000/svg\" height=\"24px\"viewBox=\"0 0 24 24\"\n",
              "     width=\"24px\">\n",
              "    <g>\n",
              "        <path d=\"M19 3H5c-1.1 0-2 .9-2 2v14c0 1.1.9 2 2 2h14c1.1 0 2-.9 2-2V5c0-1.1-.9-2-2-2zM9 17H7v-7h2v7zm4 0h-2V7h2v10zm4 0h-2v-4h2v4z\"/>\n",
              "    </g>\n",
              "</svg>\n",
              "  </button>\n",
              "\n",
              "<style>\n",
              "  .colab-df-quickchart {\n",
              "      --bg-color: #E8F0FE;\n",
              "      --fill-color: #1967D2;\n",
              "      --hover-bg-color: #E2EBFA;\n",
              "      --hover-fill-color: #174EA6;\n",
              "      --disabled-fill-color: #AAA;\n",
              "      --disabled-bg-color: #DDD;\n",
              "  }\n",
              "\n",
              "  [theme=dark] .colab-df-quickchart {\n",
              "      --bg-color: #3B4455;\n",
              "      --fill-color: #D2E3FC;\n",
              "      --hover-bg-color: #434B5C;\n",
              "      --hover-fill-color: #FFFFFF;\n",
              "      --disabled-bg-color: #3B4455;\n",
              "      --disabled-fill-color: #666;\n",
              "  }\n",
              "\n",
              "  .colab-df-quickchart {\n",
              "    background-color: var(--bg-color);\n",
              "    border: none;\n",
              "    border-radius: 50%;\n",
              "    cursor: pointer;\n",
              "    display: none;\n",
              "    fill: var(--fill-color);\n",
              "    height: 32px;\n",
              "    padding: 0;\n",
              "    width: 32px;\n",
              "  }\n",
              "\n",
              "  .colab-df-quickchart:hover {\n",
              "    background-color: var(--hover-bg-color);\n",
              "    box-shadow: 0 1px 2px rgba(60, 64, 67, 0.3), 0 1px 3px 1px rgba(60, 64, 67, 0.15);\n",
              "    fill: var(--button-hover-fill-color);\n",
              "  }\n",
              "\n",
              "  .colab-df-quickchart-complete:disabled,\n",
              "  .colab-df-quickchart-complete:disabled:hover {\n",
              "    background-color: var(--disabled-bg-color);\n",
              "    fill: var(--disabled-fill-color);\n",
              "    box-shadow: none;\n",
              "  }\n",
              "\n",
              "  .colab-df-spinner {\n",
              "    border: 2px solid var(--fill-color);\n",
              "    border-color: transparent;\n",
              "    border-bottom-color: var(--fill-color);\n",
              "    animation:\n",
              "      spin 1s steps(1) infinite;\n",
              "  }\n",
              "\n",
              "  @keyframes spin {\n",
              "    0% {\n",
              "      border-color: transparent;\n",
              "      border-bottom-color: var(--fill-color);\n",
              "      border-left-color: var(--fill-color);\n",
              "    }\n",
              "    20% {\n",
              "      border-color: transparent;\n",
              "      border-left-color: var(--fill-color);\n",
              "      border-top-color: var(--fill-color);\n",
              "    }\n",
              "    30% {\n",
              "      border-color: transparent;\n",
              "      border-left-color: var(--fill-color);\n",
              "      border-top-color: var(--fill-color);\n",
              "      border-right-color: var(--fill-color);\n",
              "    }\n",
              "    40% {\n",
              "      border-color: transparent;\n",
              "      border-right-color: var(--fill-color);\n",
              "      border-top-color: var(--fill-color);\n",
              "    }\n",
              "    60% {\n",
              "      border-color: transparent;\n",
              "      border-right-color: var(--fill-color);\n",
              "    }\n",
              "    80% {\n",
              "      border-color: transparent;\n",
              "      border-right-color: var(--fill-color);\n",
              "      border-bottom-color: var(--fill-color);\n",
              "    }\n",
              "    90% {\n",
              "      border-color: transparent;\n",
              "      border-bottom-color: var(--fill-color);\n",
              "    }\n",
              "  }\n",
              "</style>\n",
              "\n",
              "  <script>\n",
              "    async function quickchart(key) {\n",
              "      const quickchartButtonEl =\n",
              "        document.querySelector('#' + key + ' button');\n",
              "      quickchartButtonEl.disabled = true;  // To prevent multiple clicks.\n",
              "      quickchartButtonEl.classList.add('colab-df-spinner');\n",
              "      try {\n",
              "        const charts = await google.colab.kernel.invokeFunction(\n",
              "            'suggestCharts', [key], {});\n",
              "      } catch (error) {\n",
              "        console.error('Error during call to suggestCharts:', error);\n",
              "      }\n",
              "      quickchartButtonEl.classList.remove('colab-df-spinner');\n",
              "      quickchartButtonEl.classList.add('colab-df-quickchart-complete');\n",
              "    }\n",
              "    (() => {\n",
              "      let quickchartButtonEl =\n",
              "        document.querySelector('#df-fa08e18c-3a4f-463b-8960-7756ba729e62 button');\n",
              "      quickchartButtonEl.style.display =\n",
              "        google.colab.kernel.accessAllowed ? 'block' : 'none';\n",
              "    })();\n",
              "  </script>\n",
              "</div>\n",
              "\n",
              "    </div>\n",
              "  </div>\n"
            ]
          },
          "metadata": {},
          "execution_count": 9
        }
      ]
    },
    {
      "cell_type": "code",
      "source": [
        "df.shape"
      ],
      "metadata": {
        "scrolled": true,
        "execution": {
          "iopub.status.busy": "2024-01-18T12:24:13.387319Z",
          "iopub.execute_input": "2024-01-18T12:24:13.390189Z",
          "iopub.status.idle": "2024-01-18T12:24:13.401584Z",
          "shell.execute_reply.started": "2024-01-18T12:24:13.390126Z",
          "shell.execute_reply": "2024-01-18T12:24:13.400531Z"
        },
        "trusted": true,
        "id": "InsiDk6IuEt9",
        "outputId": "e28ff44e-1b0c-4b7e-d4f9-7ec4cf183864"
      },
      "execution_count": null,
      "outputs": [
        {
          "execution_count": 5,
          "output_type": "execute_result",
          "data": {
            "text/plain": "(45211, 17)"
          },
          "metadata": {}
        }
      ]
    },
    {
      "cell_type": "code",
      "source": [
        "for col in category_features:\n",
        "    plt.figure(figsize=(10,5))\n",
        "    sns.barplot(df[col].value_counts().values, df[col].value_counts().index, data=df)\n",
        "    plt.title(col)\n",
        "    plt.tight_layout()"
      ],
      "metadata": {
        "execution": {
          "iopub.status.busy": "2024-01-18T12:24:26.621076Z",
          "iopub.execute_input": "2024-01-18T12:24:26.623459Z",
          "iopub.status.idle": "2024-01-18T12:24:29.765159Z",
          "shell.execute_reply.started": "2024-01-18T12:24:26.623404Z",
          "shell.execute_reply": "2024-01-18T12:24:29.763988Z"
        },
        "trusted": true,
        "id": "z2jOoHKiuEuC",
        "outputId": "1d07afe3-2c7b-4988-abee-e0fd374b3e60"
      },
      "execution_count": null,
      "outputs": [
        {
          "output_type": "display_data",
          "data": {
            "text/plain": "<Figure size 720x360 with 1 Axes>",
            "image/png": "[encoded data removed]"
          },
          "metadata": {
            "needs_background": "light"
          }
        },
        {
          "output_type": "display_data",
          "data": {
            "text/plain": "<Figure size 720x360 with 1 Axes>",
            "image/png": "[encoded data removed]"
          },
          "metadata": {
            "needs_background": "light"
          }
        },
        {
          "output_type": "display_data",
          "data": {
            "text/plain": "<Figure size 720x360 with 1 Axes>",
            "image/png": "[encoded data removed]"
          },
          "metadata": {
            "needs_background": "light"
          }
        },
        {
          "output_type": "display_data",
          "data": {
            "text/plain": "<Figure size 720x360 with 1 Axes>",
            "image/png": "[encoded data removed]"
          },
          "metadata": {
            "needs_background": "light"
          }
        },
        {
          "output_type": "display_data",
          "data": {
            "text/plain": "<Figure size 720x360 with 1 Axes>",
            "image/png": "[encoded data removed]"
          },
          "metadata": {
            "needs_background": "light"
          }
        },
        {
          "output_type": "display_data",
          "data": {
            "text/plain": "<Figure size 720x360 with 1 Axes>",
            "image/png": "[encoded data removed]"
          },
          "metadata": {
            "needs_background": "light"
          }
        },
        {
          "output_type": "display_data",
          "data": {
            "text/plain": "<Figure size 720x360 with 1 Axes>",
            "image/png": "[encoded data removed]"
          },
          "metadata": {
            "needs_background": "light"
          }
        },
        {
          "output_type": "display_data",
          "data": {
            "text/plain": "<Figure size 720x360 with 1 Axes>",
            "image/png": "[encoded data removed]"
          },
          "metadata": {
            "needs_background": "light"
          }
        },
        {
          "output_type": "display_data",
          "data": {
            "text/plain": "<Figure size 720x360 with 1 Axes>",
            "image/png": "[encoded data removed]"
          },
          "metadata": {
            "needs_background": "light"
          }
        },
        {
          "output_type": "display_data",
          "data": {
            "text/plain": "<Figure size 720x360 with 1 Axes>",
            "image/png": "[encoded data removed]"
          },
          "metadata": {
            "needs_background": "light"
          }
        }
      ]
    },
    {
      "cell_type": "code",
      "source": [
        "df = df.drop(['duration'], axis=1)"
      ],
      "metadata": {
        "execution": {
          "iopub.status.busy": "2024-01-18T12:24:30.926646Z",
          "iopub.execute_input": "2024-01-18T12:24:30.929101Z",
          "iopub.status.idle": "2024-01-18T12:24:30.943087Z",
          "shell.execute_reply.started": "2024-01-18T12:24:30.929044Z",
          "shell.execute_reply": "2024-01-18T12:24:30.941602Z"
        },
        "trusted": true,
        "id": "JwYlARDduEuG"
      },
      "execution_count": null,
      "outputs": []
    },
    {
      "cell_type": "code",
      "source": [
        "# load X and y\n",
        "X = df.drop(columns=['y'])\n",
        "y = df['y']\n",
        "\n",
        "X_train, X_test, y_train, y_test = train_test_split(X, y, test_size = 0.2, random_state=0)\n",
        "\n",
        "print(\"Number transactions X_train dataset: \", X_train.shape)\n",
        "print(\"Number transactions y_train dataset: \", y_train.shape)\n",
        "print(\"Number transactions X_test dataset: \", X_test.shape)\n",
        "print(\"Number transactions y_test dataset: \", y_test.shape)"
      ],
      "metadata": {
        "execution": {
          "iopub.status.busy": "2024-01-18T12:24:30.948391Z",
          "iopub.execute_input": "2024-01-18T12:24:30.950887Z",
          "iopub.status.idle": "2024-01-18T12:24:31.004038Z",
          "shell.execute_reply.started": "2024-01-18T12:24:30.950828Z",
          "shell.execute_reply": "2024-01-18T12:24:31.002919Z"
        },
        "trusted": true,
        "id": "bg7nbdHwuEuG",
        "outputId": "ce05bc4d-34bd-40a2-e484-6218b87ad9c3"
      },
      "execution_count": null,
      "outputs": [
        {
          "name": "stdout",
          "text": "Number transactions X_train dataset:  (36168, 15)\nNumber transactions y_train dataset:  (36168,)\nNumber transactions X_test dataset:  (9043, 15)\nNumber transactions y_test dataset:  (9043,)\n",
          "output_type": "stream"
        }
      ]
    },
    {
      "cell_type": "code",
      "source": [
        "numeric_features = X_train.select_dtypes(include=['float64', 'int64']).columns.values\n",
        "numeric_features = numeric_features[numeric_features != 'y']\n",
        "\n",
        "category_features = X_train.select_dtypes(include=['object', 'bool']).columns.values\n",
        "\n",
        "print(numeric_features)\n",
        "print(category_features)"
      ],
      "metadata": {
        "execution": {
          "iopub.status.busy": "2024-01-18T12:24:31.008617Z",
          "iopub.execute_input": "2024-01-18T12:24:31.011040Z",
          "iopub.status.idle": "2024-01-18T12:24:31.034885Z",
          "shell.execute_reply.started": "2024-01-18T12:24:31.010984Z",
          "shell.execute_reply": "2024-01-18T12:24:31.033585Z"
        },
        "trusted": true,
        "id": "v437acYwuEuI",
        "outputId": "f7778486-a80b-46b8-c7d8-0b8c6733bb77"
      },
      "execution_count": null,
      "outputs": [
        {
          "name": "stdout",
          "text": "['age' 'balance' 'day' 'campaign' 'pdays' 'previous']\n['job' 'marital' 'education' 'default' 'housing' 'loan' 'contact' 'month'\n 'poutcome']\n",
          "output_type": "stream"
        }
      ]
    },
    {
      "cell_type": "code",
      "source": [
        "def dummify(ohe, x, columns):\n",
        "    transformed_array = ohe.transform(x)\n",
        "\n",
        "    # list of category columns\n",
        "    enc = ohe.named_transformers_['cat'].named_steps['onehot']\n",
        "    feature_lst = enc.get_feature_names(category_features.tolist())\n",
        "\n",
        "    cat_colnames = np.concatenate([feature_lst]).tolist()\n",
        "    all_colnames = numeric_features.tolist() + cat_colnames\n",
        "\n",
        "    # convert numpy array to dataframe\n",
        "    df = pd.DataFrame(transformed_array, index = x.index, columns = all_colnames)\n",
        "\n",
        "    return transformed_array, df"
      ],
      "metadata": {
        "execution": {
          "iopub.status.busy": "2024-01-18T12:24:31.039548Z",
          "iopub.execute_input": "2024-01-18T12:24:31.041984Z",
          "iopub.status.idle": "2024-01-18T12:24:31.051292Z",
          "shell.execute_reply.started": "2024-01-18T12:24:31.041911Z",
          "shell.execute_reply": "2024-01-18T12:24:31.050119Z"
        },
        "trusted": true,
        "id": "07HHsMSZuEuI"
      },
      "execution_count": null,
      "outputs": []
    },
    {
      "cell_type": "code",
      "source": [
        "# impute missing numerical values with a median value, then scale the values\n",
        "numeric_transformer = Pipeline(steps=[\n",
        "    ('imputer', SimpleImputer(strategy='median')),\n",
        "    ('scaler', StandardScaler())])\n",
        "\n",
        "# impute missing categorical values using the 'missing' and one hot encode the categories\n",
        "categorical_transformer = Pipeline(steps=[\n",
        "    ('imputer', SimpleImputer(strategy='constant', fill_value='missing')),\n",
        "    ('onehot', OneHotEncoder(handle_unknown='ignore'))])\n",
        "\n",
        "# Each transformer is a three-element tuple that defines\n",
        "#                                 the name of the transformer,\n",
        "#                                 the transform to apply,\n",
        "#                                 and the column features to apply it to\n",
        "preprocessor = ColumnTransformer(\n",
        "    transformers=[\n",
        "        ('num', numeric_transformer, numeric_features),\n",
        "        ('cat', categorical_transformer, category_features)])\n",
        "\n",
        "ohe = preprocessor.fit(X_train)\n",
        "\n",
        "X_train_t = ohe.transform(X_train)\n",
        "X_test_t = ohe.transform(X_test)"
      ],
      "metadata": {
        "execution": {
          "iopub.status.busy": "2024-01-18T12:24:31.056566Z",
          "iopub.execute_input": "2024-01-18T12:24:31.059333Z",
          "iopub.status.idle": "2024-01-18T12:24:31.635955Z",
          "shell.execute_reply.started": "2024-01-18T12:24:31.059274Z",
          "shell.execute_reply": "2024-01-18T12:24:31.634944Z"
        },
        "trusted": true,
        "id": "G9EgWKrHuEuI"
      },
      "execution_count": null,
      "outputs": []
    },
    {
      "cell_type": "code",
      "source": [
        "# transform training and test set and then convert it to dataframe\n",
        "X_train_t_array, X_train_t = dummify(ohe, X_train, category_features)\n",
        "X_test_t_array, X_test_t = dummify(ohe, X_test, category_features)\n",
        "\n",
        "X_train_t.head()"
      ],
      "metadata": {
        "execution": {
          "iopub.status.busy": "2024-01-18T12:24:31.640220Z",
          "iopub.execute_input": "2024-01-18T12:24:31.642513Z",
          "iopub.status.idle": "2024-01-18T12:24:32.004959Z",
          "shell.execute_reply.started": "2024-01-18T12:24:31.642464Z",
          "shell.execute_reply": "2024-01-18T12:24:32.003912Z"
        },
        "trusted": true,
        "id": "kaIS8N6HuEuI",
        "outputId": "e3372033-049a-4384-e0a0-63c831499685"
      },
      "execution_count": null,
      "outputs": [
        {
          "execution_count": 23,
          "output_type": "execute_result",
          "data": {
            "text/plain": "            age   balance       day  campaign     pdays  previous  job_admin.  \\\n13932  1.515061 -0.231637 -0.698514 -0.567836 -0.410222 -0.241405         1.0   \n9894  -0.369597  0.106038 -0.818717 -0.567836 -0.410222 -0.241405         0.0   \n39946 -0.558063  0.470635 -1.660136  0.402837  0.560728  0.585721         0.0   \n9217  -0.558063 -0.375660 -1.299528 -0.567836 -0.410222 -0.241405         1.0   \n4124  -0.275365 -0.340303  0.383311 -0.567836 -0.410222 -0.241405         0.0   \n\n       job_blue-collar  job_entrepreneur  job_housemaid  job_management  \\\n13932              0.0               0.0            0.0             0.0   \n9894               0.0               0.0            0.0             0.0   \n39946              0.0               0.0            0.0             0.0   \n9217               0.0               0.0            0.0             0.0   \n4124               0.0               0.0            0.0             0.0   \n\n       job_retired  job_self-employed  job_services  job_student  \\\n13932          0.0                0.0           0.0          0.0   \n9894           0.0                0.0           0.0          0.0   \n39946          0.0                0.0           0.0          0.0   \n9217           0.0                0.0           0.0          0.0   \n4124           0.0                0.0           1.0          0.0   \n\n       job_technician  job_unemployed  job_unknown  marital_divorced  \\\n13932             0.0             0.0          0.0               1.0   \n9894              0.0             0.0          1.0               0.0   \n39946             1.0             0.0          0.0               1.0   \n9217              0.0             0.0          0.0               0.0   \n4124              0.0             0.0          0.0               0.0   \n\n       marital_married  marital_single  education_primary  \\\n13932              0.0             0.0                0.0   \n9894               1.0             0.0                0.0   \n39946              0.0             0.0                0.0   \n9217               1.0             0.0                0.0   \n4124               0.0             1.0                0.0   \n\n       education_secondary  education_tertiary  education_unknown  default_no  \\\n13932                  1.0                 0.0                0.0         1.0   \n9894                   0.0                 0.0                1.0         1.0   \n39946                  1.0                 0.0                0.0         1.0   \n9217                   1.0                 0.0                0.0         1.0   \n4124                   0.0                 1.0                0.0         1.0   \n\n       default_yes  housing_no  housing_yes  loan_no  loan_yes  \\\n13932          0.0         1.0          0.0      1.0       0.0   \n9894           0.0         1.0          0.0      1.0       0.0   \n39946          0.0         0.0          1.0      1.0       0.0   \n9217           0.0         0.0          1.0      0.0       1.0   \n4124           0.0         0.0          1.0      1.0       0.0   \n\n       contact_cellular  contact_telephone  contact_unknown  month_apr  \\\n13932               1.0                0.0              0.0        0.0   \n9894                0.0                0.0              1.0        0.0   \n39946               1.0                0.0              0.0        0.0   \n9217                0.0                0.0              1.0        0.0   \n4124                0.0                0.0              1.0        0.0   \n\n       month_aug  month_dec  month_feb  month_jan  month_jul  month_jun  \\\n13932        0.0        0.0        0.0        0.0        1.0        0.0   \n9894         0.0        0.0        0.0        0.0        0.0        1.0   \n39946        0.0        0.0        0.0        0.0        0.0        1.0   \n9217         0.0        0.0        0.0        0.0        0.0        1.0   \n4124         0.0        0.0        0.0        0.0        0.0        0.0   \n\n       month_mar  month_may  month_nov  month_oct  month_sep  \\\n13932        0.0        0.0        0.0        0.0        0.0   \n9894         0.0        0.0        0.0        0.0        0.0   \n39946        0.0        0.0        0.0        0.0        0.0   \n9217         0.0        0.0        0.0        0.0        0.0   \n4124         0.0        1.0        0.0        0.0        0.0   \n\n       poutcome_failure  poutcome_other  poutcome_success  poutcome_unknown  \n13932               0.0             0.0               0.0               1.0  \n9894                0.0             0.0               0.0               1.0  \n39946               1.0             0.0               0.0               0.0  \n9217                0.0             0.0               0.0               1.0  \n4124                0.0             0.0               0.0               1.0  ",
            "text/html": "<div>\n<style scoped>\n    .dataframe tbody tr th:only-of-type {\n        vertical-align: middle;\n    }\n\n    .dataframe tbody tr th {\n        vertical-align: top;\n    }\n\n    .dataframe thead th {\n        text-align: right;\n    }\n</style>\n<table border=\"1\" class=\"dataframe\">\n  <thead>\n    <tr style=\"text-align: right;\">\n      <th></th>\n      <th>age</th>\n      <th>balance</th>\n      <th>day</th>\n      <th>campaign</th>\n      <th>pdays</th>\n      <th>previous</th>\n      <th>job_admin.</th>\n      <th>job_blue-collar</th>\n      <th>job_entrepreneur</th>\n      <th>job_housemaid</th>\n      <th>job_management</th>\n      <th>job_retired</th>\n      <th>job_self-employed</th>\n      <th>job_services</th>\n      <th>job_student</th>\n      <th>job_technician</th>\n      <th>job_unemployed</th>\n      <th>job_unknown</th>\n      <th>marital_divorced</th>\n      <th>marital_married</th>\n      <th>marital_single</th>\n      <th>education_primary</th>\n      <th>education_secondary</th>\n      <th>education_tertiary</th>\n      <th>education_unknown</th>\n      <th>default_no</th>\n      <th>default_yes</th>\n      <th>housing_no</th>\n      <th>housing_yes</th>\n      <th>loan_no</th>\n      <th>loan_yes</th>\n      <th>contact_cellular</th>\n      <th>contact_telephone</th>\n      <th>contact_unknown</th>\n      <th>month_apr</th>\n      <th>month_aug</th>\n      <th>month_dec</th>\n      <th>month_feb</th>\n      <th>month_jan</th>\n      <th>month_jul</th>\n      <th>month_jun</th>\n      <th>month_mar</th>\n      <th>month_may</th>\n      <th>month_nov</th>\n      <th>month_oct</th>\n      <th>month_sep</th>\n      <th>poutcome_failure</th>\n      <th>poutcome_other</th>\n      <th>poutcome_success</th>\n      <th>poutcome_unknown</th>\n    </tr>\n  </thead>\n  <tbody>\n    <tr>\n      <th>13932</th>\n      <td>1.515061</td>\n      <td>-0.231637</td>\n      <td>-0.698514</td>\n      <td>-0.567836</td>\n      <td>-0.410222</td>\n      <td>-0.241405</td>\n      <td>1.0</td>\n      <td>0.0</td>\n      <td>0.0</td>\n      <td>0.0</td>\n      <td>0.0</td>\n      <td>0.0</td>\n      <td>0.0</td>\n      <td>0.0</td>\n      <td>0.0</td>\n      <td>0.0</td>\n      <td>0.0</td>\n      <td>0.0</td>\n      <td>1.0</td>\n      <td>0.0</td>\n      <td>0.0</td>\n      <td>0.0</td>\n      <td>1.0</td>\n      <td>0.0</td>\n      <td>0.0</td>\n      <td>1.0</td>\n      <td>0.0</td>\n      <td>1.0</td>\n      <td>0.0</td>\n      <td>1.0</td>\n      <td>0.0</td>\n      <td>1.0</td>\n      <td>0.0</td>\n      <td>0.0</td>\n      <td>0.0</td>\n      <td>0.0</td>\n      <td>0.0</td>\n      <td>0.0</td>\n      <td>0.0</td>\n      <td>1.0</td>\n      <td>0.0</td>\n      <td>0.0</td>\n      <td>0.0</td>\n      <td>0.0</td>\n      <td>0.0</td>\n      <td>0.0</td>\n      <td>0.0</td>\n      <td>0.0</td>\n      <td>0.0</td>\n      <td>1.0</td>\n    </tr>\n    <tr>\n      <th>9894</th>\n      <td>-0.369597</td>\n      <td>0.106038</td>\n      <td>-0.818717</td>\n      <td>-0.567836</td>\n      <td>-0.410222</td>\n      <td>-0.241405</td>\n      <td>0.0</td>\n      <td>0.0</td>\n      <td>0.0</td>\n      <td>0.0</td>\n      <td>0.0</td>\n      <td>0.0</td>\n      <td>0.0</td>\n      <td>0.0</td>\n      <td>0.0</td>\n      <td>0.0</td>\n      <td>0.0</td>\n      <td>1.0</td>\n      <td>0.0</td>\n      <td>1.0</td>\n      <td>0.0</td>\n      <td>0.0</td>\n      <td>0.0</td>\n      <td>0.0</td>\n      <td>1.0</td>\n      <td>1.0</td>\n      <td>0.0</td>\n      <td>1.0</td>\n      <td>0.0</td>\n      <td>1.0</td>\n      <td>0.0</td>\n      <td>0.0</td>\n      <td>0.0</td>\n      <td>1.0</td>\n      <td>0.0</td>\n      <td>0.0</td>\n      <td>0.0</td>\n      <td>0.0</td>\n      <td>0.0</td>\n      <td>0.0</td>\n      <td>1.0</td>\n      <td>0.0</td>\n      <td>0.0</td>\n      <td>0.0</td>\n      <td>0.0</td>\n      <td>0.0</td>\n      <td>0.0</td>\n      <td>0.0</td>\n      <td>0.0</td>\n      <td>1.0</td>\n    </tr>\n    <tr>\n      <th>39946</th>\n      <td>-0.558063</td>\n      <td>0.470635</td>\n      <td>-1.660136</td>\n      <td>0.402837</td>\n      <td>0.560728</td>\n      <td>0.585721</td>\n      <td>0.0</td>\n      <td>0.0</td>\n      <td>0.0</td>\n      <td>0.0</td>\n      <td>0.0</td>\n      <td>0.0</td>\n      <td>0.0</td>\n      <td>0.0</td>\n      <td>0.0</td>\n      <td>1.0</td>\n      <td>0.0</td>\n      <td>0.0</td>\n      <td>1.0</td>\n      <td>0.0</td>\n      <td>0.0</td>\n      <td>0.0</td>\n      <td>1.0</td>\n      <td>0.0</td>\n      <td>0.0</td>\n      <td>1.0</td>\n      <td>0.0</td>\n      <td>0.0</td>\n      <td>1.0</td>\n      <td>1.0</td>\n      <td>0.0</td>\n      <td>1.0</td>\n      <td>0.0</td>\n      <td>0.0</td>\n      <td>0.0</td>\n      <td>0.0</td>\n      <td>0.0</td>\n      <td>0.0</td>\n      <td>0.0</td>\n      <td>0.0</td>\n      <td>1.0</td>\n      <td>0.0</td>\n      <td>0.0</td>\n      <td>0.0</td>\n      <td>0.0</td>\n      <td>0.0</td>\n      <td>1.0</td>\n      <td>0.0</td>\n      <td>0.0</td>\n      <td>0.0</td>\n    </tr>\n    <tr>\n      <th>9217</th>\n      <td>-0.558063</td>\n      <td>-0.375660</td>\n      <td>-1.299528</td>\n      <td>-0.567836</td>\n      <td>-0.410222</td>\n      <td>-0.241405</td>\n      <td>1.0</td>\n      <td>0.0</td>\n      <td>0.0</td>\n      <td>0.0</td>\n      <td>0.0</td>\n      <td>0.0</td>\n      <td>0.0</td>\n      <td>0.0</td>\n      <td>0.0</td>\n      <td>0.0</td>\n      <td>0.0</td>\n      <td>0.0</td>\n      <td>0.0</td>\n      <td>1.0</td>\n      <td>0.0</td>\n      <td>0.0</td>\n      <td>1.0</td>\n      <td>0.0</td>\n      <td>0.0</td>\n      <td>1.0</td>\n      <td>0.0</td>\n      <td>0.0</td>\n      <td>1.0</td>\n      <td>0.0</td>\n      <td>1.0</td>\n      <td>0.0</td>\n      <td>0.0</td>\n      <td>1.0</td>\n      <td>0.0</td>\n      <td>0.0</td>\n      <td>0.0</td>\n      <td>0.0</td>\n      <td>0.0</td>\n      <td>0.0</td>\n      <td>1.0</td>\n      <td>0.0</td>\n      <td>0.0</td>\n      <td>0.0</td>\n      <td>0.0</td>\n      <td>0.0</td>\n      <td>0.0</td>\n      <td>0.0</td>\n      <td>0.0</td>\n      <td>1.0</td>\n    </tr>\n    <tr>\n      <th>4124</th>\n      <td>-0.275365</td>\n      <td>-0.340303</td>\n      <td>0.383311</td>\n      <td>-0.567836</td>\n      <td>-0.410222</td>\n      <td>-0.241405</td>\n      <td>0.0</td>\n      <td>0.0</td>\n      <td>0.0</td>\n      <td>0.0</td>\n      <td>0.0</td>\n      <td>0.0</td>\n      <td>0.0</td>\n      <td>1.0</td>\n      <td>0.0</td>\n      <td>0.0</td>\n      <td>0.0</td>\n      <td>0.0</td>\n      <td>0.0</td>\n      <td>0.0</td>\n      <td>1.0</td>\n      <td>0.0</td>\n      <td>0.0</td>\n      <td>1.0</td>\n      <td>0.0</td>\n      <td>1.0</td>\n      <td>0.0</td>\n      <td>0.0</td>\n      <td>1.0</td>\n      <td>1.0</td>\n      <td>0.0</td>\n      <td>0.0</td>\n      <td>0.0</td>\n      <td>1.0</td>\n      <td>0.0</td>\n      <td>0.0</td>\n      <td>0.0</td>\n      <td>0.0</td>\n      <td>0.0</td>\n      <td>0.0</td>\n      <td>0.0</td>\n      <td>0.0</td>\n      <td>1.0</td>\n      <td>0.0</td>\n      <td>0.0</td>\n      <td>0.0</td>\n      <td>0.0</td>\n      <td>0.0</td>\n      <td>0.0</td>\n      <td>1.0</td>\n    </tr>\n  </tbody>\n</table>\n</div>"
          },
          "metadata": {}
        }
      ]
    },
    {
      "cell_type": "code",
      "source": [
        "X_train_columns = X_train_t.columns\n",
        "print(X_train_columns)"
      ],
      "metadata": {
        "execution": {
          "iopub.status.busy": "2024-01-18T12:24:32.009573Z",
          "iopub.execute_input": "2024-01-18T12:24:32.011858Z",
          "iopub.status.idle": "2024-01-18T12:24:32.022463Z",
          "shell.execute_reply.started": "2024-01-18T12:24:32.011796Z",
          "shell.execute_reply": "2024-01-18T12:24:32.021293Z"
        },
        "trusted": true,
        "id": "HFeOqjfouEuI",
        "outputId": "caf77c7d-391d-44c1-94de-358ed7f6a5df"
      },
      "execution_count": null,
      "outputs": [
        {
          "name": "stdout",
          "text": "Index(['age', 'balance', 'day', 'campaign', 'pdays', 'previous', 'job_admin.',\n       'job_blue-collar', 'job_entrepreneur', 'job_housemaid',\n       'job_management', 'job_retired', 'job_self-employed', 'job_services',\n       'job_student', 'job_technician', 'job_unemployed', 'job_unknown',\n       'marital_divorced', 'marital_married', 'marital_single',\n       'education_primary', 'education_secondary', 'education_tertiary',\n       'education_unknown', 'default_no', 'default_yes', 'housing_no',\n       'housing_yes', 'loan_no', 'loan_yes', 'contact_cellular',\n       'contact_telephone', 'contact_unknown', 'month_apr', 'month_aug',\n       'month_dec', 'month_feb', 'month_jan', 'month_jul', 'month_jun',\n       'month_mar', 'month_may', 'month_nov', 'month_oct', 'month_sep',\n       'poutcome_failure', 'poutcome_other', 'poutcome_success',\n       'poutcome_unknown'],\n      dtype='object')\n",
          "output_type": "stream"
        }
      ]
    },
    {
      "cell_type": "code",
      "source": [
        "from imblearn.over_sampling import SMOTE\n",
        "\n",
        "# summarize class distribution\n",
        "counter = Counter(y_train)\n",
        "print(counter)\n",
        "\n",
        "# transform the dataset\n",
        "oversample = SMOTE()\n",
        "X_train_smote, y_train = oversample.fit_resample(X_train_t, y_train)\n",
        "\n",
        "# summarize the new class distribution\n",
        "counter = Counter(y_train)\n",
        "print(counter)"
      ],
      "metadata": {
        "execution": {
          "iopub.status.busy": "2024-01-18T12:24:32.029123Z",
          "iopub.execute_input": "2024-01-18T12:24:32.031777Z",
          "iopub.status.idle": "2024-01-18T12:24:33.733606Z",
          "shell.execute_reply.started": "2024-01-18T12:24:32.031704Z",
          "shell.execute_reply": "2024-01-18T12:24:33.732444Z"
        },
        "trusted": true,
        "id": "c5rPOsKtuEuK",
        "outputId": "a3b5c9a3-8c2b-489a-9698-159490343d64"
      },
      "execution_count": null,
      "outputs": [
        {
          "name": "stdout",
          "text": "Counter({'no': 31942, 'yes': 4226})\nCounter({'yes': 31942, 'no': 31942})\n",
          "output_type": "stream"
        }
      ]
    },
    {
      "cell_type": "code",
      "source": [
        "from sklearn.svm import SVC\n",
        "\n",
        "final_X_train = pd.DataFrame(data=X_train_smote,columns=X_train_columns )\n",
        "final_y_train = pd.DataFrame(data=y_train,columns=['y'])\n",
        "\n",
        "rfe_model = RFE(LogisticRegression(solver='lbfgs', max_iter=1000), 25)\n",
        "rfe_model = rfe_model.fit(final_X_train, final_y_train)\n",
        "\n",
        "# feature selection\n",
        "print(rfe_model.support_)\n",
        "print(rfe_model.ranking_)"
      ],
      "metadata": {
        "execution": {
          "iopub.status.busy": "2024-01-18T12:24:33.738266Z",
          "iopub.execute_input": "2024-01-18T12:24:33.740418Z",
          "iopub.status.idle": "2024-01-18T12:25:03.841385Z",
          "shell.execute_reply.started": "2024-01-18T12:24:33.740369Z",
          "shell.execute_reply": "2024-01-18T12:25:03.840368Z"
        },
        "trusted": true,
        "id": "17mgk6vruEuK",
        "outputId": "745da224-acff-4924-cc64-c687b12876b7"
      },
      "execution_count": null,
      "outputs": [
        {
          "name": "stdout",
          "text": "[False False False  True False False False False  True  True False  True\n False False False False False  True False False  True False False False\n False False  True  True False False  True  True False  True False  True\n  True  True  True  True False  True  True  True  True  True  True  True\n  True  True]\n[19 16 25  1 24 21 17 18  1  1 20  1 14  9  3 26 13  1 22 10  1  7 15 12\n  4  8  1  1  5  2  1  1 11  1 23  1  1  1  1  1  6  1  1  1  1  1  1  1\n  1  1]\n",
          "output_type": "stream"
        }
      ]
    },
    {
      "cell_type": "code",
      "source": [
        "selected_columns = X_train_columns[rfe_model.support_]\n",
        "print(selected_columns.tolist())"
      ],
      "metadata": {
        "execution": {
          "iopub.status.busy": "2024-01-18T12:25:03.846052Z",
          "iopub.execute_input": "2024-01-18T12:25:03.848308Z",
          "iopub.status.idle": "2024-01-18T12:25:03.858403Z",
          "shell.execute_reply.started": "2024-01-18T12:25:03.848248Z",
          "shell.execute_reply": "2024-01-18T12:25:03.857386Z"
        },
        "trusted": true,
        "id": "WrxUD2ybuEuL",
        "outputId": "d752959a-e26d-4ffd-aa97-7a941869676e"
      },
      "execution_count": null,
      "outputs": [
        {
          "name": "stdout",
          "text": "['campaign', 'job_entrepreneur', 'job_housemaid', 'job_retired', 'job_unknown', 'marital_single', 'default_yes', 'housing_no', 'loan_yes', 'contact_cellular', 'contact_unknown', 'month_aug', 'month_dec', 'month_feb', 'month_jan', 'month_jul', 'month_mar', 'month_may', 'month_nov', 'month_oct', 'month_sep', 'poutcome_failure', 'poutcome_other', 'poutcome_success', 'poutcome_unknown']\n",
          "output_type": "stream"
        }
      ]
    },
    {
      "cell_type": "code",
      "source": [
        "X_train_final = final_X_train[selected_columns.tolist()]\n",
        "y_train_final = final_y_train['y']\n",
        "X_test_final = X_test_t[selected_columns.tolist()]\n",
        "y_test_final = y_test\n",
        "\n",
        "X_test_final.head()"
      ],
      "metadata": {
        "execution": {
          "iopub.status.busy": "2024-01-18T12:25:03.863039Z",
          "iopub.execute_input": "2024-01-18T12:25:03.865621Z",
          "iopub.status.idle": "2024-01-18T12:25:03.929249Z",
          "shell.execute_reply.started": "2024-01-18T12:25:03.865549Z",
          "shell.execute_reply": "2024-01-18T12:25:03.928070Z"
        },
        "trusted": true,
        "id": "FdUDC3gRuEuL",
        "outputId": "309d5919-df6d-42ce-c4a3-a999300fd1ba"
      },
      "execution_count": null,
      "outputs": [
        {
          "execution_count": 28,
          "output_type": "execute_result",
          "data": {
            "text/plain": "       campaign  job_entrepreneur  job_housemaid  job_retired  job_unknown  \\\n14001  3.961971               0.0            0.0          0.0          0.0   \n32046 -0.567836               0.0            0.0          0.0          0.0   \n13318  0.726394               0.0            0.0          0.0          0.0   \n42991  1.373510               0.0            1.0          0.0          0.0   \n14237 -0.244279               0.0            0.0          0.0          0.0   \n\n       marital_single  default_yes  housing_no  loan_yes  contact_cellular  \\\n14001             0.0          0.0         0.0       0.0               1.0   \n32046             1.0          0.0         0.0       0.0               1.0   \n13318             0.0          0.0         1.0       1.0               0.0   \n42991             0.0          0.0         0.0       1.0               1.0   \n14237             0.0          1.0         0.0       1.0               1.0   \n\n       contact_unknown  month_aug  month_dec  month_feb  month_jan  month_jul  \\\n14001              0.0        0.0        0.0        0.0        0.0        1.0   \n32046              0.0        0.0        0.0        0.0        0.0        0.0   \n13318              0.0        0.0        0.0        0.0        0.0        1.0   \n42991              0.0        0.0        0.0        1.0        0.0        0.0   \n14237              0.0        0.0        0.0        0.0        0.0        1.0   \n\n       month_mar  month_may  month_nov  month_oct  month_sep  \\\n14001        0.0        0.0        0.0        0.0        0.0   \n32046        0.0        0.0        0.0        0.0        0.0   \n13318        0.0        0.0        0.0        0.0        0.0   \n42991        0.0        0.0        0.0        0.0        0.0   \n14237        0.0        0.0        0.0        0.0        0.0   \n\n       poutcome_failure  poutcome_other  poutcome_success  poutcome_unknown  \n14001               0.0             0.0               0.0               1.0  \n32046               0.0             0.0               0.0               1.0  \n13318               0.0             0.0               0.0               1.0  \n42991               1.0             0.0               0.0               0.0  \n14237               0.0             0.0               0.0               1.0  ",
            "text/html": "<div>\n<style scoped>\n    .dataframe tbody tr th:only-of-type {\n        vertical-align: middle;\n    }\n\n    .dataframe tbody tr th {\n        vertical-align: top;\n    }\n\n    .dataframe thead th {\n        text-align: right;\n    }\n</style>\n<table border=\"1\" class=\"dataframe\">\n  <thead>\n    <tr style=\"text-align: right;\">\n      <th></th>\n      <th>campaign</th>\n      <th>job_entrepreneur</th>\n      <th>job_housemaid</th>\n      <th>job_retired</th>\n      <th>job_unknown</th>\n      <th>marital_single</th>\n      <th>default_yes</th>\n      <th>housing_no</th>\n      <th>loan_yes</th>\n      <th>contact_cellular</th>\n      <th>contact_unknown</th>\n      <th>month_aug</th>\n      <th>month_dec</th>\n      <th>month_feb</th>\n      <th>month_jan</th>\n      <th>month_jul</th>\n      <th>month_mar</th>\n      <th>month_may</th>\n      <th>month_nov</th>\n      <th>month_oct</th>\n      <th>month_sep</th>\n      <th>poutcome_failure</th>\n      <th>poutcome_other</th>\n      <th>poutcome_success</th>\n      <th>poutcome_unknown</th>\n    </tr>\n  </thead>\n  <tbody>\n    <tr>\n      <th>14001</th>\n      <td>3.961971</td>\n      <td>0.0</td>\n      <td>0.0</td>\n      <td>0.0</td>\n      <td>0.0</td>\n      <td>0.0</td>\n      <td>0.0</td>\n      <td>0.0</td>\n      <td>0.0</td>\n      <td>1.0</td>\n      <td>0.0</td>\n      <td>0.0</td>\n      <td>0.0</td>\n      <td>0.0</td>\n      <td>0.0</td>\n      <td>1.0</td>\n      <td>0.0</td>\n      <td>0.0</td>\n      <td>0.0</td>\n      <td>0.0</td>\n      <td>0.0</td>\n      <td>0.0</td>\n      <td>0.0</td>\n      <td>0.0</td>\n      <td>1.0</td>\n    </tr>\n    <tr>\n      <th>32046</th>\n      <td>-0.567836</td>\n      <td>0.0</td>\n      <td>0.0</td>\n      <td>0.0</td>\n      <td>0.0</td>\n      <td>1.0</td>\n      <td>0.0</td>\n      <td>0.0</td>\n      <td>0.0</td>\n      <td>1.0</td>\n      <td>0.0</td>\n      <td>0.0</td>\n      <td>0.0</td>\n      <td>0.0</td>\n      <td>0.0</td>\n      <td>0.0</td>\n      <td>0.0</td>\n      <td>0.0</td>\n      <td>0.0</td>\n      <td>0.0</td>\n      <td>0.0</td>\n      <td>0.0</td>\n      <td>0.0</td>\n      <td>0.0</td>\n      <td>1.0</td>\n    </tr>\n    <tr>\n      <th>13318</th>\n      <td>0.726394</td>\n      <td>0.0</td>\n      <td>0.0</td>\n      <td>0.0</td>\n      <td>0.0</td>\n      <td>0.0</td>\n      <td>0.0</td>\n      <td>1.0</td>\n      <td>1.0</td>\n      <td>0.0</td>\n      <td>0.0</td>\n      <td>0.0</td>\n      <td>0.0</td>\n      <td>0.0</td>\n      <td>0.0</td>\n      <td>1.0</td>\n      <td>0.0</td>\n      <td>0.0</td>\n      <td>0.0</td>\n      <td>0.0</td>\n      <td>0.0</td>\n      <td>0.0</td>\n      <td>0.0</td>\n      <td>0.0</td>\n      <td>1.0</td>\n    </tr>\n    <tr>\n      <th>42991</th>\n      <td>1.373510</td>\n      <td>0.0</td>\n      <td>1.0</td>\n      <td>0.0</td>\n      <td>0.0</td>\n      <td>0.0</td>\n      <td>0.0</td>\n      <td>0.0</td>\n      <td>1.0</td>\n      <td>1.0</td>\n      <td>0.0</td>\n      <td>0.0</td>\n      <td>0.0</td>\n      <td>1.0</td>\n      <td>0.0</td>\n      <td>0.0</td>\n      <td>0.0</td>\n      <td>0.0</td>\n      <td>0.0</td>\n      <td>0.0</td>\n      <td>0.0</td>\n      <td>1.0</td>\n      <td>0.0</td>\n      <td>0.0</td>\n      <td>0.0</td>\n    </tr>\n    <tr>\n      <th>14237</th>\n      <td>-0.244279</td>\n      <td>0.0</td>\n      <td>0.0</td>\n      <td>0.0</td>\n      <td>0.0</td>\n      <td>0.0</td>\n      <td>1.0</td>\n      <td>0.0</td>\n      <td>1.0</td>\n      <td>1.0</td>\n      <td>0.0</td>\n      <td>0.0</td>\n      <td>0.0</td>\n      <td>0.0</td>\n      <td>0.0</td>\n      <td>1.0</td>\n      <td>0.0</td>\n      <td>0.0</td>\n      <td>0.0</td>\n      <td>0.0</td>\n      <td>0.0</td>\n      <td>0.0</td>\n      <td>0.0</td>\n      <td>0.0</td>\n      <td>1.0</td>\n    </tr>\n  </tbody>\n</table>\n</div>"
          },
          "metadata": {}
        }
      ]
    },
    {
      "cell_type": "code",
      "source": [
        "# Logistic Regression Model Fitting\n",
        "from sklearn.linear_model import LogisticRegression\n",
        "from sklearn import metrics\n",
        "\n",
        "logreg = LogisticRegression()\n",
        "logreg.fit(X_train_final, y_train_final)"
      ],
      "metadata": {
        "execution": {
          "iopub.status.busy": "2024-01-18T12:25:03.947976Z",
          "iopub.execute_input": "2024-01-18T12:25:03.951341Z",
          "iopub.status.idle": "2024-01-18T12:25:04.713941Z",
          "shell.execute_reply.started": "2024-01-18T12:25:03.951281Z",
          "shell.execute_reply": "2024-01-18T12:25:04.712904Z"
        },
        "trusted": true,
        "id": "bkNQt_L_uEuL",
        "outputId": "997dee87-3829-4d96-9724-666ab82d231a"
      },
      "execution_count": null,
      "outputs": [
        {
          "execution_count": 30,
          "output_type": "execute_result",
          "data": {
            "text/plain": "LogisticRegression()"
          },
          "metadata": {}
        }
      ]
    },
    {
      "cell_type": "code",
      "source": [
        "y_pred = logreg.predict(X_test_final)\n",
        "print('Accuracy of logistic regression classifier on test set: {:.2f}'.format(logreg.score(X_test_final, y_test_final)))"
      ],
      "metadata": {
        "execution": {
          "iopub.status.busy": "2024-01-18T12:25:04.718411Z",
          "iopub.execute_input": "2024-01-18T12:25:04.720581Z",
          "iopub.status.idle": "2024-01-18T12:25:04.777590Z",
          "shell.execute_reply.started": "2024-01-18T12:25:04.720530Z",
          "shell.execute_reply": "2024-01-18T12:25:04.776463Z"
        },
        "trusted": true,
        "id": "GjqPWUeUuEuM",
        "outputId": "b936fc3b-11a1-464a-edd0-c57f50b8d647"
      },
      "execution_count": null,
      "outputs": [
        {
          "name": "stdout",
          "text": "Accuracy of logistic regression classifier on test set: 0.74\n",
          "output_type": "stream"
        }
      ]
    }
  ]
}