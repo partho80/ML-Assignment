{
  "metadata": {
    "kernelspec": {
      "language": "python",
      "display_name": "Python 3",
      "name": "python3"
    },
    "language_info": {
      "name": "python",
      "version": "3.10.12",
      "mimetype": "text/x-python",
      "codemirror_mode": {
        "name": "ipython",
        "version": 3
      },
      "pygments_lexer": "ipython3",
      "nbconvert_exporter": "python",
      "file_extension": ".py"
    },
    "kaggle": {
      "accelerator": "none",
      "dataSources": [
        {
          "sourceId": 23812,
          "sourceType": "datasetVersion",
          "datasetId": 17810
        }
      ],
      "dockerImageVersionId": 30587,
      "isInternetEnabled": false,
      "language": "python",
      "sourceType": "notebook",
      "isGpuEnabled": false
    },
    "colab": {
      "provenance": []
    }
  },
  "nbformat_minor": 0,
  "nbformat": 4,
  "cells": [
    {
      "cell_type": "code",
      "source": [
        "import numpy as np\n",
        "import pandas as pd\n",
        "import os"
      ],
      "metadata": {
        "execution": {
          "iopub.status.busy": "2024-01-18T17:52:20.770788Z",
          "iopub.execute_input": "2024-01-18T17:52:20.771924Z",
          "iopub.status.idle": "2024-01-18T17:52:21.293557Z",
          "shell.execute_reply.started": "2024-01-18T17:52:20.771871Z",
          "shell.execute_reply": "2024-01-18T17:52:21.292283Z"
        },
        "trusted": true,
        "id": "qgQ7klDI737i"
      },
      "execution_count": null,
      "outputs": []
    },
    {
      "cell_type": "code",
      "source": [
        "os.listdir('/content/drive/MyDrive/chest_xray/train/PNEUMONIA')[:5]"
      ],
      "metadata": {
        "execution": {
          "iopub.status.busy": "2024-01-18T17:52:21.296083Z",
          "iopub.execute_input": "2024-01-18T17:52:21.296744Z",
          "iopub.status.idle": "2024-01-18T17:52:21.472509Z",
          "shell.execute_reply.started": "2024-01-18T17:52:21.296710Z",
          "shell.execute_reply": "2024-01-18T17:52:21.471617Z"
        },
        "trusted": true,
        "id": "dxwm4w5T737n",
        "outputId": "0e87a814-9ad3-407e-ae07-1b969499d6df"
      },
      "execution_count": null,
      "outputs": [
        {
          "execution_count": 2,
          "output_type": "execute_result",
          "data": {
            "text/plain": "['person1180_virus_2010.jpeg',\n 'person1230_virus_2081.jpeg',\n 'person1513_virus_2632.jpeg',\n 'person124_virus_238.jpeg',\n 'person746_virus_1369.jpeg']"
          },
          "metadata": {}
        }
      ]
    },
    {
      "cell_type": "code",
      "source": [
        "os.listdir('/content/drive/MyDrive/chest_xray/train/NORMAL')[:5]"
      ],
      "metadata": {
        "execution": {
          "iopub.status.busy": "2024-01-18T17:52:21.473922Z",
          "iopub.execute_input": "2024-01-18T17:52:21.474651Z",
          "iopub.status.idle": "2024-01-18T17:52:21.626356Z",
          "shell.execute_reply.started": "2024-01-18T17:52:21.474617Z",
          "shell.execute_reply": "2024-01-18T17:52:21.625196Z"
        },
        "trusted": true,
        "id": "oLBb_QYO737p",
        "outputId": "052c00fd-1728-466d-bf5f-fffd88f3dc92"
      },
      "execution_count": null,
      "outputs": [
        {
          "execution_count": 3,
          "output_type": "execute_result",
          "data": {
            "text/plain": "['NORMAL2-IM-0771-0001.jpeg',\n 'NORMAL2-IM-1294-0001-0002.jpeg',\n 'IM-0675-0001.jpeg',\n 'NORMAL2-IM-1169-0001.jpeg',\n 'IM-0421-0001.jpeg']"
          },
          "metadata": {}
        }
      ]
    },
    {
      "cell_type": "code",
      "source": [
        "from matplotlib import image\n",
        "from PIL import Image\n",
        "import os\n",
        "import numpy as np\n",
        "import pandas as pd\n",
        "\n",
        "def Load_Images(path):\n",
        "    folders = os.listdir(path)\n",
        "    data = []\n",
        "    label = []\n",
        "    print(folders)\n",
        "\n",
        "    if '.DS_Store' in folders:\n",
        "        folders.remove('.DS_Store')\n",
        "\n",
        "    print(folders)\n",
        "\n",
        "    for i in folders:\n",
        "        c = 0\n",
        "        images = os.listdir(path+'/'+i)\n",
        "\n",
        "        if '.DS_Store' in images:\n",
        "            images.remove('.DS_Store')\n",
        "\n",
        "        for j in images:\n",
        "            c += 1\n",
        "\n",
        "            im = Image.open(path+'/'+i+'/'+j).convert('RGB')\n",
        "            im = im.resize((50, 50), image.NEAREST)\n",
        "\n",
        "            ar = np.array(im)\n",
        "            # print(ar.shape)\n",
        "            data.append(ar)\n",
        "\n",
        "            if i == 'NORMAL':\n",
        "                label.append(i)\n",
        "            else:\n",
        "                label.append(j.split('_')[1])\n",
        "\n",
        "        # print(c)\n",
        "\n",
        "    t = pd.factorize(np.array(label))\n",
        "    print(t)\n",
        "    # print(tead())\n",
        "    tgt = t[0]\n",
        "    # print(len(images), len(label))\n",
        "    return np.array(data), tgt\n",
        "\n",
        ""
      ],
      "metadata": {
        "execution": {
          "iopub.status.busy": "2024-01-18T17:52:21.628888Z",
          "iopub.execute_input": "2024-01-18T17:52:21.629519Z",
          "iopub.status.idle": "2024-01-18T17:52:21.641598Z",
          "shell.execute_reply.started": "2024-01-18T17:52:21.629485Z",
          "shell.execute_reply": "2024-01-18T17:52:21.640757Z"
        },
        "trusted": true,
        "id": "OGYt1QGV737s"
      },
      "execution_count": null,
      "outputs": []
    },
    {
      "cell_type": "code",
      "source": [
        "os.listdir('/content/drive/MyDrive/chest_xray/train')"
      ],
      "metadata": {
        "execution": {
          "iopub.status.busy": "2024-01-18T17:52:21.644312Z",
          "iopub.execute_input": "2024-01-18T17:52:21.644753Z",
          "iopub.status.idle": "2024-01-18T17:52:21.662950Z",
          "shell.execute_reply.started": "2024-01-18T17:52:21.644713Z",
          "shell.execute_reply": "2024-01-18T17:52:21.661543Z"
        },
        "trusted": true,
        "id": "LGW0C8HI737u",
        "outputId": "637fdcf1-efb0-434f-dc71-77e51fbcde43"
      },
      "execution_count": null,
      "outputs": [
        {
          "execution_count": 5,
          "output_type": "execute_result",
          "data": {
            "text/plain": "['PNEUMONIA', 'NORMAL', '.DS_Store']"
          },
          "metadata": {}
        }
      ]
    },
    {
      "cell_type": "code",
      "source": [
        "train_x,train_y=Load_Images('/content/drive/MyDrive/chest_xray/train')"
      ],
      "metadata": {
        "execution": {
          "iopub.status.busy": "2024-01-18T17:52:21.665307Z",
          "iopub.execute_input": "2024-01-18T17:52:21.665777Z",
          "iopub.status.idle": "2024-01-18T17:53:51.176139Z",
          "shell.execute_reply.started": "2024-01-18T17:52:21.665735Z",
          "shell.execute_reply": "2024-01-18T17:53:51.174693Z"
        },
        "trusted": true,
        "id": "_U673mVD737w",
        "outputId": "2a4510e5-3316-4cfa-8097-9b45d40c8cdb"
      },
      "execution_count": null,
      "outputs": [
        {
          "name": "stdout",
          "text": "['PNEUMONIA', 'NORMAL', '.DS_Store']\n['PNEUMONIA', 'NORMAL']\n(array([0, 0, 0, ..., 2, 2, 2]), array(['virus', 'bacteria', 'NORMAL'], dtype='<U8'))\n",
          "output_type": "stream"
        }
      ]
    },
    {
      "cell_type": "code",
      "source": [
        "train_x.shape,train_y.shape"
      ],
      "metadata": {
        "execution": {
          "iopub.status.busy": "2024-01-18T17:53:51.178074Z",
          "iopub.execute_input": "2024-01-18T17:53:51.178559Z",
          "iopub.status.idle": "2024-01-18T17:53:51.188494Z",
          "shell.execute_reply.started": "2024-01-18T17:53:51.178514Z",
          "shell.execute_reply": "2024-01-18T17:53:51.187048Z"
        },
        "trusted": true,
        "id": "PZRgM4xi737x",
        "outputId": "7631f00c-ae0a-4838-a4ea-43aaf5e9154a"
      },
      "execution_count": null,
      "outputs": [
        {
          "execution_count": 7,
          "output_type": "execute_result",
          "data": {
            "text/plain": "((5216, 50, 50, 3), (5216,))"
          },
          "metadata": {}
        }
      ]
    },
    {
      "cell_type": "code",
      "source": [
        "act='relu'\n",
        "from keras.models import Sequential\n",
        "from keras.layers import Conv2D,Dense, Flatten, MaxPooling2D, Dropout\n",
        "model = Sequential()\n",
        "model.add(Conv2D(50,(3,3),activation = act, input_shape = train_x.shape[1:]))\n",
        "model.add(MaxPooling2D((2,2)))\n",
        "model.add(Conv2D(60,(3,3),activation = act))\n",
        "model.add(MaxPooling2D((2,2)))\n",
        "model.add(Dropout(0.2))\n",
        "model.add(Conv2D(80,(3,3),activation = act))\n",
        "model.add(MaxPooling2D((2,2)))\n",
        "model.add(Dropout(0.2))\n",
        "model.add(Conv2D(160,(3,3),activation = act))\n",
        "model.add(MaxPooling2D((2,2)))\n",
        "model.add(Dropout(0.2))\n",
        "model.add(Flatten())\n",
        "model.add(Dense(320,activation=act))\n",
        "model.add(Dense(3,activation='softmax'))\n",
        "model.summary()"
      ],
      "metadata": {
        "execution": {
          "iopub.status.busy": "2024-01-18T17:53:51.190661Z",
          "iopub.execute_input": "2024-01-18T17:53:51.191059Z",
          "iopub.status.idle": "2024-01-18T17:54:06.892012Z",
          "shell.execute_reply.started": "2024-01-18T17:53:51.191023Z",
          "shell.execute_reply": "2024-01-18T17:54:06.887522Z"
        },
        "trusted": true,
        "id": "Ae627IfN737z",
        "outputId": "2c020575-d345-4598-c88a-87e8a49d2150"
      },
      "execution_count": null,
      "outputs": [
        {
          "name": "stdout",
          "text": "Model: \"sequential\"\n_________________________________________________________________\n Layer (type)                Output Shape              Param #   \n=================================================================\n conv2d (Conv2D)             (None, 48, 48, 50)        1400      \n                                                                 \n max_pooling2d (MaxPooling2  (None, 24, 24, 50)        0         \n D)                                                              \n                                                                 \n conv2d_1 (Conv2D)           (None, 22, 22, 60)        27060     \n                                                                 \n max_pooling2d_1 (MaxPoolin  (None, 11, 11, 60)        0         \n g2D)                                                            \n                                                                 \n dropout (Dropout)           (None, 11, 11, 60)        0         \n                                                                 \n conv2d_2 (Conv2D)           (None, 9, 9, 80)          43280     \n                                                                 \n max_pooling2d_2 (MaxPoolin  (None, 4, 4, 80)          0         \n g2D)                                                            \n                                                                 \n dropout_1 (Dropout)         (None, 4, 4, 80)          0         \n                                                                 \n conv2d_3 (Conv2D)           (None, 2, 2, 160)         115360    \n                                                                 \n max_pooling2d_3 (MaxPoolin  (None, 1, 1, 160)         0         \n g2D)                                                            \n                                                                 \n dropout_2 (Dropout)         (None, 1, 1, 160)         0         \n                                                                 \n flatten (Flatten)           (None, 160)               0         \n                                                                 \n dense (Dense)               (None, 320)               51520     \n                                                                 \n dense_1 (Dense)             (None, 3)                 963       \n                                                                 \n=================================================================\nTotal params: 239583 (935.87 KB)\nTrainable params: 239583 (935.87 KB)\nNon-trainable params: 0 (0.00 Byte)\n_________________________________________________________________\n",
          "output_type": "stream"
        }
      ]
    },
    {
      "cell_type": "code",
      "source": [
        "model.compile(loss='sparse_categorical_crossentropy', optimizer='adam', metrics=['accuracy'])\n",
        "model.fit(train_x, train_y, epochs=100)"
      ],
      "metadata": {
        "execution": {
          "iopub.status.busy": "2024-01-18T17:54:06.894830Z",
          "iopub.execute_input": "2024-01-18T17:54:06.895405Z",
          "iopub.status.idle": "2024-01-18T18:19:31.038996Z",
          "shell.execute_reply.started": "2024-01-18T17:54:06.895360Z",
          "shell.execute_reply": "2024-01-18T18:19:31.037448Z"
        },
        "trusted": true,
        "id": "zTfmPccJ7371",
        "outputId": "b048ccb3-3dc1-4618-94d6-b33a09c0ff3d"
      },
      "execution_count": null,
      "outputs": [
        {
          "name": "stdout",
          "text": "Epoch 1/100\n163/163 [==============================] - 17s 94ms/step - loss: 1.5736 - accuracy: 0.5447\nEpoch 2/100\n163/163 [==============================] - 15s 93ms/step - loss: 0.8457 - accuracy: 0.6227\nEpoch 3/100\n163/163 [==============================] - 15s 90ms/step - loss: 0.7251 - accuracy: 0.6869\nEpoch 4/100\n163/163 [==============================] - 15s 93ms/step - loss: 0.6829 - accuracy: 0.7076\nEpoch 5/100\n163/163 [==============================] - 15s 90ms/step - loss: 0.6191 - accuracy: 0.7337\nEpoch 6/100\n163/163 [==============================] - 15s 94ms/step - loss: 0.5776 - accuracy: 0.7498\nEpoch 7/100\n163/163 [==============================] - 15s 90ms/step - loss: 0.5569 - accuracy: 0.7634\nEpoch 8/100\n163/163 [==============================] - 16s 95ms/step - loss: 0.5698 - accuracy: 0.7506\nEpoch 9/100\n163/163 [==============================] - 15s 91ms/step - loss: 0.5490 - accuracy: 0.7636\nEpoch 10/100\n163/163 [==============================] - 15s 93ms/step - loss: 0.5197 - accuracy: 0.7749\nEpoch 11/100\n163/163 [==============================] - 15s 91ms/step - loss: 0.5071 - accuracy: 0.7805\nEpoch 12/100\n163/163 [==============================] - 15s 93ms/step - loss: 0.5162 - accuracy: 0.7780\nEpoch 13/100\n163/163 [==============================] - 15s 90ms/step - loss: 0.5021 - accuracy: 0.7803\nEpoch 14/100\n163/163 [==============================] - 15s 90ms/step - loss: 0.4858 - accuracy: 0.7841\nEpoch 15/100\n163/163 [==============================] - 15s 92ms/step - loss: 0.4960 - accuracy: 0.7807\nEpoch 16/100\n163/163 [==============================] - 15s 90ms/step - loss: 0.4661 - accuracy: 0.7941\nEpoch 17/100\n163/163 [==============================] - 15s 93ms/step - loss: 0.4730 - accuracy: 0.7889\nEpoch 18/100\n163/163 [==============================] - 15s 90ms/step - loss: 0.4646 - accuracy: 0.7991\nEpoch 19/100\n163/163 [==============================] - 15s 93ms/step - loss: 0.4699 - accuracy: 0.7885\nEpoch 20/100\n163/163 [==============================] - 15s 90ms/step - loss: 0.4558 - accuracy: 0.8066\nEpoch 21/100\n163/163 [==============================] - 15s 92ms/step - loss: 0.4531 - accuracy: 0.7964\nEpoch 22/100\n163/163 [==============================] - 15s 91ms/step - loss: 0.4541 - accuracy: 0.7977\nEpoch 23/100\n163/163 [==============================] - 15s 93ms/step - loss: 0.4402 - accuracy: 0.8020\nEpoch 24/100\n163/163 [==============================] - 15s 90ms/step - loss: 0.4406 - accuracy: 0.8016\nEpoch 25/100\n163/163 [==============================] - 15s 93ms/step - loss: 0.4358 - accuracy: 0.8079\nEpoch 26/100\n163/163 [==============================] - 15s 92ms/step - loss: 0.4212 - accuracy: 0.8148\nEpoch 27/100\n163/163 [==============================] - 15s 91ms/step - loss: 0.4305 - accuracy: 0.8100\nEpoch 28/100\n163/163 [==============================] - 15s 93ms/step - loss: 0.4217 - accuracy: 0.8137\nEpoch 29/100\n163/163 [==============================] - 15s 89ms/step - loss: 0.4030 - accuracy: 0.8246\nEpoch 30/100\n163/163 [==============================] - 15s 93ms/step - loss: 0.4165 - accuracy: 0.8225\nEpoch 31/100\n163/163 [==============================] - 15s 90ms/step - loss: 0.4159 - accuracy: 0.8144\nEpoch 32/100\n163/163 [==============================] - 15s 94ms/step - loss: 0.4068 - accuracy: 0.8221\nEpoch 33/100\n163/163 [==============================] - 15s 90ms/step - loss: 0.4130 - accuracy: 0.8181\nEpoch 34/100\n163/163 [==============================] - 16s 95ms/step - loss: 0.4012 - accuracy: 0.8230\nEpoch 35/100\n163/163 [==============================] - 15s 91ms/step - loss: 0.3949 - accuracy: 0.8242\nEpoch 36/100\n163/163 [==============================] - 15s 94ms/step - loss: 0.3922 - accuracy: 0.8257\nEpoch 37/100\n163/163 [==============================] - 15s 90ms/step - loss: 0.3711 - accuracy: 0.8380\nEpoch 38/100\n163/163 [==============================] - 15s 92ms/step - loss: 0.3822 - accuracy: 0.8309\nEpoch 39/100\n163/163 [==============================] - 14s 89ms/step - loss: 0.3765 - accuracy: 0.8332\nEpoch 40/100\n163/163 [==============================] - 15s 92ms/step - loss: 0.3739 - accuracy: 0.8311\nEpoch 41/100\n163/163 [==============================] - 15s 89ms/step - loss: 0.3814 - accuracy: 0.8313\nEpoch 42/100\n163/163 [==============================] - 15s 90ms/step - loss: 0.3566 - accuracy: 0.8420\nEpoch 43/100\n163/163 [==============================] - 15s 92ms/step - loss: 0.3737 - accuracy: 0.8386\nEpoch 44/100\n163/163 [==============================] - 14s 88ms/step - loss: 0.3776 - accuracy: 0.8370\nEpoch 45/100\n163/163 [==============================] - 15s 91ms/step - loss: 0.3470 - accuracy: 0.8524\nEpoch 46/100\n163/163 [==============================] - 14s 88ms/step - loss: 0.3262 - accuracy: 0.8553\nEpoch 47/100\n163/163 [==============================] - 15s 91ms/step - loss: 0.3373 - accuracy: 0.8501\nEpoch 48/100\n163/163 [==============================] - 14s 88ms/step - loss: 0.3434 - accuracy: 0.8558\nEpoch 49/100\n163/163 [==============================] - 15s 92ms/step - loss: 0.3710 - accuracy: 0.8405\nEpoch 50/100\n163/163 [==============================] - 15s 89ms/step - loss: 0.3439 - accuracy: 0.8530\nEpoch 51/100\n163/163 [==============================] - 15s 92ms/step - loss: 0.3329 - accuracy: 0.8564\nEpoch 52/100\n163/163 [==============================] - 14s 88ms/step - loss: 0.3162 - accuracy: 0.8641\nEpoch 53/100\n163/163 [==============================] - 15s 89ms/step - loss: 0.3558 - accuracy: 0.8466\nEpoch 54/100\n163/163 [==============================] - 15s 92ms/step - loss: 0.3274 - accuracy: 0.8620\nEpoch 55/100\n163/163 [==============================] - 15s 89ms/step - loss: 0.3248 - accuracy: 0.8591\nEpoch 56/100\n163/163 [==============================] - 15s 93ms/step - loss: 0.3130 - accuracy: 0.8627\nEpoch 57/100\n163/163 [==============================] - 15s 90ms/step - loss: 0.3019 - accuracy: 0.8681\nEpoch 58/100\n163/163 [==============================] - 15s 92ms/step - loss: 0.3165 - accuracy: 0.8625\nEpoch 59/100\n163/163 [==============================] - 15s 90ms/step - loss: 0.3154 - accuracy: 0.8666\nEpoch 60/100\n163/163 [==============================] - 15s 92ms/step - loss: 0.2876 - accuracy: 0.8771\nEpoch 61/100\n163/163 [==============================] - 14s 89ms/step - loss: 0.2908 - accuracy: 0.8785\nEpoch 62/100\n163/163 [==============================] - 15s 91ms/step - loss: 0.3027 - accuracy: 0.8731\nEpoch 63/100\n163/163 [==============================] - 15s 89ms/step - loss: 0.3010 - accuracy: 0.8738\nEpoch 64/100\n163/163 [==============================] - 15s 92ms/step - loss: 0.2902 - accuracy: 0.8760\nEpoch 65/100\n163/163 [==============================] - 15s 90ms/step - loss: 0.2878 - accuracy: 0.8706\nEpoch 66/100\n163/163 [==============================] - 15s 89ms/step - loss: 0.2783 - accuracy: 0.8808\nEpoch 67/100\n163/163 [==============================] - 15s 92ms/step - loss: 0.2709 - accuracy: 0.8836\nEpoch 68/100\n163/163 [==============================] - 15s 94ms/step - loss: 0.2745 - accuracy: 0.8829\nEpoch 69/100\n163/163 [==============================] - 15s 92ms/step - loss: 0.2608 - accuracy: 0.8859\nEpoch 70/100\n163/163 [==============================] - 15s 92ms/step - loss: 0.2778 - accuracy: 0.8831\nEpoch 71/100\n163/163 [==============================] - 15s 92ms/step - loss: 0.2626 - accuracy: 0.8836\nEpoch 72/100\n163/163 [==============================] - 15s 90ms/step - loss: 0.2751 - accuracy: 0.8785\nEpoch 73/100\n163/163 [==============================] - 15s 92ms/step - loss: 0.2573 - accuracy: 0.8909\nEpoch 74/100\n163/163 [==============================] - 14s 89ms/step - loss: 0.2684 - accuracy: 0.8905\nEpoch 75/100\n163/163 [==============================] - 15s 92ms/step - loss: 0.2643 - accuracy: 0.8892\nEpoch 76/100\n163/163 [==============================] - 15s 90ms/step - loss: 0.2597 - accuracy: 0.8911\nEpoch 77/100\n163/163 [==============================] - 15s 92ms/step - loss: 0.2547 - accuracy: 0.8894\nEpoch 78/100\n163/163 [==============================] - 14s 89ms/step - loss: 0.2621 - accuracy: 0.8896\nEpoch 79/100\n163/163 [==============================] - 14s 89ms/step - loss: 0.2533 - accuracy: 0.8917\nEpoch 80/100\n163/163 [==============================] - 15s 92ms/step - loss: 0.2345 - accuracy: 0.9032\nEpoch 81/100\n163/163 [==============================] - 15s 90ms/step - loss: 0.2522 - accuracy: 0.8967\nEpoch 82/100\n163/163 [==============================] - 15s 91ms/step - loss: 0.2739 - accuracy: 0.8852\nEpoch 83/100\n163/163 [==============================] - 15s 91ms/step - loss: 0.2427 - accuracy: 0.8986\nEpoch 84/100\n163/163 [==============================] - 15s 92ms/step - loss: 0.2400 - accuracy: 0.8980\nEpoch 85/100\n163/163 [==============================] - 15s 90ms/step - loss: 0.2268 - accuracy: 0.9038\nEpoch 86/100\n163/163 [==============================] - 15s 92ms/step - loss: 0.2383 - accuracy: 0.9026\nEpoch 87/100\n163/163 [==============================] - 15s 89ms/step - loss: 0.2251 - accuracy: 0.9082\nEpoch 88/100\n163/163 [==============================] - 15s 91ms/step - loss: 0.2293 - accuracy: 0.9082\nEpoch 89/100\n163/163 [==============================] - 14s 89ms/step - loss: 0.2540 - accuracy: 0.9026\nEpoch 90/100\n163/163 [==============================] - 15s 91ms/step - loss: 0.2300 - accuracy: 0.9043\nEpoch 91/100\n163/163 [==============================] - 15s 90ms/step - loss: 0.2365 - accuracy: 0.9070\nEpoch 92/100\n163/163 [==============================] - 15s 90ms/step - loss: 0.2263 - accuracy: 0.9039\nEpoch 93/100\n163/163 [==============================] - 15s 92ms/step - loss: 0.2351 - accuracy: 0.9039\nEpoch 94/100\n163/163 [==============================] - 14s 88ms/step - loss: 0.2105 - accuracy: 0.9110\nEpoch 95/100\n163/163 [==============================] - 15s 92ms/step - loss: 0.2336 - accuracy: 0.9070\nEpoch 96/100\n163/163 [==============================] - 15s 90ms/step - loss: 0.2104 - accuracy: 0.9139\nEpoch 97/100\n163/163 [==============================] - 15s 93ms/step - loss: 0.2117 - accuracy: 0.9174\nEpoch 98/100\n163/163 [==============================] - 15s 89ms/step - loss: 0.2364 - accuracy: 0.9078\nEpoch 99/100\n163/163 [==============================] - 15s 94ms/step - loss: 0.1990 - accuracy: 0.9168\nEpoch 100/100\n163/163 [==============================] - 15s 89ms/step - loss: 0.2023 - accuracy: 0.9202\n",
          "output_type": "stream"
        },
        {
          "execution_count": 9,
          "output_type": "execute_result",
          "data": {
            "text/plain": "<keras.src.callbacks.History at 0x7f9e179e3700>"
          },
          "metadata": {}
        }
      ]
    },
    {
      "cell_type": "code",
      "source": [
        "test_x,test_y=Load_Images('/content/drive/MyDrive/chest_xray/test')"
      ],
      "metadata": {
        "execution": {
          "iopub.status.busy": "2024-01-18T18:19:31.043560Z",
          "iopub.execute_input": "2024-01-18T18:19:31.043972Z",
          "iopub.status.idle": "2024-01-18T18:19:44.908816Z",
          "shell.execute_reply.started": "2024-01-18T18:19:31.043939Z",
          "shell.execute_reply": "2024-01-18T18:19:44.907323Z"
        },
        "trusted": true,
        "id": "lTmMvWJZ7373",
        "outputId": "89d459d9-02cb-4bf1-918f-8410c3ee12c0"
      },
      "execution_count": null,
      "outputs": [
        {
          "name": "stdout",
          "text": "['PNEUMONIA', 'NORMAL']\n['PNEUMONIA', 'NORMAL']\n(array([0, 0, 0, 1, 1, 0, 0, 1, 0, 1, 1, 0, 1, 1, 1, 0, 1, 1, 0, 1, 0, 1,\n       1, 1, 0, 0, 1, 0, 1, 0, 0, 0, 0, 1, 1, 0, 1, 1, 1, 0, 1, 1, 1, 1,\n       1, 1, 1, 0, 1, 1, 1, 1, 0, 1, 1, 0, 1, 1, 1, 1, 1, 0, 0, 1, 0, 1,\n       1, 0, 1, 0, 1, 1, 1, 1, 1, 0, 0, 1, 1, 0, 0, 0, 0, 1, 1, 1, 0, 1,\n       1, 1, 1, 1, 0, 0, 0, 1, 1, 1, 1, 1, 1, 1, 0, 1, 1, 0, 1, 1, 0, 1,\n       1, 1, 1, 1, 1, 1, 1, 1, 1, 1, 1, 1, 1, 1, 0, 1, 1, 0, 0, 1, 0, 0,\n       1, 1, 1, 1, 1, 0, 1, 0, 1, 1, 0, 0, 1, 1, 1, 1, 1, 0, 0, 1, 1, 1,\n       1, 1, 1, 1, 0, 0, 0, 0, 1, 1, 0, 1, 1, 0, 0, 1, 1, 1, 0, 1, 0, 0,\n       0, 1, 0, 1, 1, 1, 0, 1, 0, 1, 1, 0, 0, 1, 1, 1, 1, 0, 1, 1, 0, 1,\n       1, 1, 1, 1, 0, 1, 0, 0, 0, 0, 1, 0, 0, 1, 1, 1, 0, 1, 1, 0, 1, 1,\n       1, 1, 0, 1, 0, 0, 1, 1, 1, 0, 1, 0, 1, 1, 1, 1, 0, 1, 1, 1, 1, 0,\n       1, 1, 0, 0, 0, 1, 1, 0, 1, 1, 1, 0, 1, 1, 1, 1, 0, 1, 1, 1, 0, 0,\n       1, 0, 0, 0, 0, 1, 1, 0, 1, 0, 1, 1, 1, 1, 1, 1, 1, 0, 0, 0, 0, 0,\n       1, 0, 0, 0, 1, 0, 1, 0, 1, 1, 0, 1, 1, 0, 1, 1, 0, 1, 1, 1, 0, 0,\n       1, 1, 1, 1, 1, 1, 1, 0, 0, 0, 1, 0, 0, 0, 0, 0, 0, 1, 1, 1, 1, 1,\n       1, 1, 1, 1, 0, 1, 1, 1, 0, 0, 1, 0, 0, 0, 0, 1, 1, 0, 0, 1, 1, 0,\n       0, 1, 1, 1, 0, 0, 1, 0, 1, 0, 1, 1, 1, 1, 1, 1, 0, 1, 1, 1, 1, 1,\n       1, 1, 0, 1, 1, 1, 0, 0, 0, 0, 0, 0, 0, 0, 1, 1, 2, 2, 2, 2, 2, 2,\n       2, 2, 2, 2, 2, 2, 2, 2, 2, 2, 2, 2, 2, 2, 2, 2, 2, 2, 2, 2, 2, 2,\n       2, 2, 2, 2, 2, 2, 2, 2, 2, 2, 2, 2, 2, 2, 2, 2, 2, 2, 2, 2, 2, 2,\n       2, 2, 2, 2, 2, 2, 2, 2, 2, 2, 2, 2, 2, 2, 2, 2, 2, 2, 2, 2, 2, 2,\n       2, 2, 2, 2, 2, 2, 2, 2, 2, 2, 2, 2, 2, 2, 2, 2, 2, 2, 2, 2, 2, 2,\n       2, 2, 2, 2, 2, 2, 2, 2, 2, 2, 2, 2, 2, 2, 2, 2, 2, 2, 2, 2, 2, 2,\n       2, 2, 2, 2, 2, 2, 2, 2, 2, 2, 2, 2, 2, 2, 2, 2, 2, 2, 2, 2, 2, 2,\n       2, 2, 2, 2, 2, 2, 2, 2, 2, 2, 2, 2, 2, 2, 2, 2, 2, 2, 2, 2, 2, 2,\n       2, 2, 2, 2, 2, 2, 2, 2, 2, 2, 2, 2, 2, 2, 2, 2, 2, 2, 2, 2, 2, 2,\n       2, 2, 2, 2, 2, 2, 2, 2, 2, 2, 2, 2, 2, 2, 2, 2, 2, 2, 2, 2, 2, 2,\n       2, 2, 2, 2, 2, 2, 2, 2, 2, 2, 2, 2, 2, 2, 2, 2, 2, 2, 2, 2, 2, 2,\n       2, 2, 2, 2, 2, 2, 2, 2]), array(['virus', 'bacteria', 'NORMAL'], dtype='<U8'))\n",
          "output_type": "stream"
        }
      ]
    },
    {
      "cell_type": "code",
      "source": [
        "model.evaluate(test_x,test_y)"
      ],
      "metadata": {
        "execution": {
          "iopub.status.busy": "2024-01-18T18:19:44.910829Z",
          "iopub.execute_input": "2024-01-18T18:19:44.911262Z",
          "iopub.status.idle": "2024-01-18T18:19:45.758398Z",
          "shell.execute_reply.started": "2024-01-18T18:19:44.911227Z",
          "shell.execute_reply": "2024-01-18T18:19:45.756988Z"
        },
        "trusted": true,
        "id": "cVj5Y1GR7374",
        "outputId": "8fb52178-f8d8-45e5-901c-100aa3f3c3a2"
      },
      "execution_count": null,
      "outputs": [
        {
          "name": "stdout",
          "text": "20/20 [==============================] - 1s 24ms/step - loss: 1.1186 - accuracy: 0.7212\n",
          "output_type": "stream"
        },
        {
          "execution_count": 11,
          "output_type": "execute_result",
          "data": {
            "text/plain": "[1.1186392307281494, 0.7211538553237915]"
          },
          "metadata": {}
        }
      ]
    },
    {
      "cell_type": "code",
      "source": [
        "model.metrics_names"
      ],
      "metadata": {
        "execution": {
          "iopub.status.busy": "2024-01-18T18:19:45.760400Z",
          "iopub.execute_input": "2024-01-18T18:19:45.760833Z",
          "iopub.status.idle": "2024-01-18T18:19:45.768169Z",
          "shell.execute_reply.started": "2024-01-18T18:19:45.760786Z",
          "shell.execute_reply": "2024-01-18T18:19:45.766818Z"
        },
        "trusted": true,
        "id": "3JuIRcEx7376",
        "outputId": "d28bc75d-b825-4159-b646-eda791c4fe08"
      },
      "execution_count": null,
      "outputs": [
        {
          "execution_count": 12,
          "output_type": "execute_result",
          "data": {
            "text/plain": "['loss', 'accuracy']"
          },
          "metadata": {}
        }
      ]
    },
    {
      "cell_type": "code",
      "source": [
        "act='relu'\n",
        "from keras.models import Sequential\n",
        "from keras.layers import Conv2D,Dense, Flatten, MaxPooling2D, Dropout\n",
        "model = Sequential()\n",
        "model.add(Conv2D(50,(3,3),activation = act, input_shape = train_x.shape[1:]))\n",
        "model.add(MaxPooling2D((2,2)))\n",
        "model.add(Conv2D(60,(3,3),activation = act))\n",
        "model.add(MaxPooling2D((2,2)))\n",
        "model.add(Dropout(0.2))\n",
        "model.add(Conv2D(80,(3,3),activation = act))\n",
        "model.add(MaxPooling2D((2,2)))\n",
        "model.add(Dropout(0.2))\n",
        "model.add(Conv2D(160,(3,3),activation = act))\n",
        "model.add(MaxPooling2D((2,2)))\n",
        "model.add(Dropout(0.2))\n",
        "model.add(Flatten())\n",
        "model.add(Dense(320,activation=act))\n",
        "model.add(Dense(3,activation='softmax'))\n",
        "model.summary()"
      ],
      "metadata": {
        "execution": {
          "iopub.status.busy": "2024-01-18T18:19:45.770072Z",
          "iopub.execute_input": "2024-01-18T18:19:45.770528Z",
          "iopub.status.idle": "2024-01-18T18:19:45.985549Z",
          "shell.execute_reply.started": "2024-01-18T18:19:45.770464Z",
          "shell.execute_reply": "2024-01-18T18:19:45.983975Z"
        },
        "trusted": true,
        "id": "Tt2ggiHG7377",
        "outputId": "232eb690-18db-451c-88f4-c6fd5176d919"
      },
      "execution_count": null,
      "outputs": [
        {
          "name": "stdout",
          "text": "Model: \"sequential_1\"\n_________________________________________________________________\n Layer (type)                Output Shape              Param #   \n=================================================================\n conv2d_4 (Conv2D)           (None, 48, 48, 50)        1400      \n                                                                 \n max_pooling2d_4 (MaxPoolin  (None, 24, 24, 50)        0         \n g2D)                                                            \n                                                                 \n conv2d_5 (Conv2D)           (None, 22, 22, 60)        27060     \n                                                                 \n max_pooling2d_5 (MaxPoolin  (None, 11, 11, 60)        0         \n g2D)                                                            \n                                                                 \n dropout_3 (Dropout)         (None, 11, 11, 60)        0         \n                                                                 \n conv2d_6 (Conv2D)           (None, 9, 9, 80)          43280     \n                                                                 \n max_pooling2d_6 (MaxPoolin  (None, 4, 4, 80)          0         \n g2D)                                                            \n                                                                 \n dropout_4 (Dropout)         (None, 4, 4, 80)          0         \n                                                                 \n conv2d_7 (Conv2D)           (None, 2, 2, 160)         115360    \n                                                                 \n max_pooling2d_7 (MaxPoolin  (None, 1, 1, 160)         0         \n g2D)                                                            \n                                                                 \n dropout_5 (Dropout)         (None, 1, 1, 160)         0         \n                                                                 \n flatten_1 (Flatten)         (None, 160)               0         \n                                                                 \n dense_2 (Dense)             (None, 320)               51520     \n                                                                 \n dense_3 (Dense)             (None, 3)                 963       \n                                                                 \n=================================================================\nTotal params: 239583 (935.87 KB)\nTrainable params: 239583 (935.87 KB)\nNon-trainable params: 0 (0.00 Byte)\n_________________________________________________________________\n",
          "output_type": "stream"
        }
      ]
    },
    {
      "cell_type": "code",
      "source": [
        "model.compile(loss='sparse_categorical_crossentropy', optimizer='nadam', metrics=['accuracy'])\n",
        "model.fit(train_x, train_y, epochs=75)"
      ],
      "metadata": {
        "execution": {
          "iopub.status.busy": "2024-01-18T18:19:45.987668Z",
          "iopub.execute_input": "2024-01-18T18:19:45.988188Z",
          "iopub.status.idle": "2024-01-18T18:39:10.737298Z",
          "shell.execute_reply.started": "2024-01-18T18:19:45.988143Z",
          "shell.execute_reply": "2024-01-18T18:39:10.736016Z"
        },
        "trusted": true,
        "id": "xFA8B9E27379",
        "outputId": "fb73def8-dd45-430b-c6eb-d5c7f740857b"
      },
      "execution_count": null,
      "outputs": [
        {
          "name": "stdout",
          "text": "Epoch 1/75\n163/163 [==============================] - 18s 96ms/step - loss: 1.3207 - accuracy: 0.5656\nEpoch 2/75\n163/163 [==============================] - 16s 100ms/step - loss: 0.7198 - accuracy: 0.6729\nEpoch 3/75\n163/163 [==============================] - 17s 101ms/step - loss: 0.6252 - accuracy: 0.7224\nEpoch 4/75\n163/163 [==============================] - 16s 99ms/step - loss: 0.5798 - accuracy: 0.7487\nEpoch 5/75\n163/163 [==============================] - 16s 97ms/step - loss: 0.5463 - accuracy: 0.7623\nEpoch 6/75\n163/163 [==============================] - 16s 96ms/step - loss: 0.5183 - accuracy: 0.7736\nEpoch 7/75\n163/163 [==============================] - 15s 93ms/step - loss: 0.5033 - accuracy: 0.7830\nEpoch 8/75\n163/163 [==============================] - 15s 95ms/step - loss: 0.4932 - accuracy: 0.7851\nEpoch 9/75\n163/163 [==============================] - 15s 93ms/step - loss: 0.4825 - accuracy: 0.7885\nEpoch 10/75\n163/163 [==============================] - 15s 94ms/step - loss: 0.4803 - accuracy: 0.7910\nEpoch 11/75\n163/163 [==============================] - 15s 95ms/step - loss: 0.4787 - accuracy: 0.7935\nEpoch 12/75\n163/163 [==============================] - 16s 96ms/step - loss: 0.4663 - accuracy: 0.7952\nEpoch 13/75\n163/163 [==============================] - 15s 94ms/step - loss: 0.4596 - accuracy: 0.7975\nEpoch 14/75\n163/163 [==============================] - 15s 95ms/step - loss: 0.4440 - accuracy: 0.8037\nEpoch 15/75\n163/163 [==============================] - 15s 93ms/step - loss: 0.4498 - accuracy: 0.8029\nEpoch 16/75\n163/163 [==============================] - 16s 96ms/step - loss: 0.4322 - accuracy: 0.8085\nEpoch 17/75\n163/163 [==============================] - 15s 93ms/step - loss: 0.4427 - accuracy: 0.8058\nEpoch 18/75\n163/163 [==============================] - 16s 95ms/step - loss: 0.4281 - accuracy: 0.8158\nEpoch 19/75\n163/163 [==============================] - 15s 92ms/step - loss: 0.4312 - accuracy: 0.8075\nEpoch 20/75\n163/163 [==============================] - 16s 96ms/step - loss: 0.4249 - accuracy: 0.8142\nEpoch 21/75\n163/163 [==============================] - 15s 92ms/step - loss: 0.4310 - accuracy: 0.8092\nEpoch 22/75\n163/163 [==============================] - 15s 95ms/step - loss: 0.4180 - accuracy: 0.8150\nEpoch 23/75\n163/163 [==============================] - 15s 92ms/step - loss: 0.4017 - accuracy: 0.8267\nEpoch 24/75\n163/163 [==============================] - 15s 92ms/step - loss: 0.3790 - accuracy: 0.8332\nEpoch 25/75\n163/163 [==============================] - 15s 94ms/step - loss: 0.3839 - accuracy: 0.8280\nEpoch 26/75\n163/163 [==============================] - 15s 91ms/step - loss: 0.4037 - accuracy: 0.8276\nEpoch 27/75\n163/163 [==============================] - 15s 93ms/step - loss: 0.3865 - accuracy: 0.8276\nEpoch 28/75\n163/163 [==============================] - 15s 92ms/step - loss: 0.3727 - accuracy: 0.8313\nEpoch 29/75\n163/163 [==============================] - 15s 93ms/step - loss: 0.3834 - accuracy: 0.8303\nEpoch 30/75\n163/163 [==============================] - 15s 89ms/step - loss: 0.3673 - accuracy: 0.8397\nEpoch 31/75\n163/163 [==============================] - 15s 93ms/step - loss: 0.3674 - accuracy: 0.8388\nEpoch 32/75\n163/163 [==============================] - 15s 90ms/step - loss: 0.3598 - accuracy: 0.8447\nEpoch 33/75\n163/163 [==============================] - 15s 93ms/step - loss: 0.3483 - accuracy: 0.8461\nEpoch 34/75\n163/163 [==============================] - 15s 90ms/step - loss: 0.3436 - accuracy: 0.8493\nEpoch 35/75\n163/163 [==============================] - 15s 92ms/step - loss: 0.3550 - accuracy: 0.8457\nEpoch 36/75\n163/163 [==============================] - 15s 89ms/step - loss: 0.3193 - accuracy: 0.8631\nEpoch 37/75\n163/163 [==============================] - 15s 93ms/step - loss: 0.3456 - accuracy: 0.8530\nEpoch 38/75\n163/163 [==============================] - 15s 90ms/step - loss: 0.3309 - accuracy: 0.8549\nEpoch 39/75\n163/163 [==============================] - 15s 90ms/step - loss: 0.3148 - accuracy: 0.8618\nEpoch 40/75\n163/163 [==============================] - 15s 93ms/step - loss: 0.3260 - accuracy: 0.8562\nEpoch 41/75\n163/163 [==============================] - 15s 90ms/step - loss: 0.3131 - accuracy: 0.8635\nEpoch 42/75\n163/163 [==============================] - 15s 93ms/step - loss: 0.3045 - accuracy: 0.8744\nEpoch 43/75\n163/163 [==============================] - 15s 89ms/step - loss: 0.2968 - accuracy: 0.8735\nEpoch 44/75\n163/163 [==============================] - 15s 93ms/step - loss: 0.2800 - accuracy: 0.8806\nEpoch 45/75\n163/163 [==============================] - 15s 91ms/step - loss: 0.2943 - accuracy: 0.8773\nEpoch 46/75\n163/163 [==============================] - 16s 96ms/step - loss: 0.2937 - accuracy: 0.8723\nEpoch 47/75\n163/163 [==============================] - 15s 91ms/step - loss: 0.2897 - accuracy: 0.8773\nEpoch 48/75\n163/163 [==============================] - 15s 94ms/step - loss: 0.2619 - accuracy: 0.8878\nEpoch 49/75\n163/163 [==============================] - 15s 91ms/step - loss: 0.3035 - accuracy: 0.8704\nEpoch 50/75\n163/163 [==============================] - 15s 93ms/step - loss: 0.2824 - accuracy: 0.8840\nEpoch 51/75\n163/163 [==============================] - 15s 91ms/step - loss: 0.2621 - accuracy: 0.8903\nEpoch 52/75\n163/163 [==============================] - 15s 91ms/step - loss: 0.2471 - accuracy: 0.8959\nEpoch 53/75\n163/163 [==============================] - 15s 91ms/step - loss: 0.2549 - accuracy: 0.8934\nEpoch 54/75\n163/163 [==============================] - 15s 90ms/step - loss: 0.2416 - accuracy: 0.8961\nEpoch 55/75\n163/163 [==============================] - 14s 89ms/step - loss: 0.2357 - accuracy: 0.9026\nEpoch 56/75\n163/163 [==============================] - 15s 89ms/step - loss: 0.2264 - accuracy: 0.9091\nEpoch 57/75\n163/163 [==============================] - 15s 90ms/step - loss: 0.2329 - accuracy: 0.9041\nEpoch 58/75\n163/163 [==============================] - 15s 89ms/step - loss: 0.2345 - accuracy: 0.9039\nEpoch 59/75\n163/163 [==============================] - 15s 90ms/step - loss: 0.2218 - accuracy: 0.9074\nEpoch 60/75\n163/163 [==============================] - 15s 89ms/step - loss: 0.2173 - accuracy: 0.9118\nEpoch 61/75\n163/163 [==============================] - 15s 91ms/step - loss: 0.2389 - accuracy: 0.9043\nEpoch 62/75\n163/163 [==============================] - 15s 90ms/step - loss: 0.2176 - accuracy: 0.9105\nEpoch 63/75\n163/163 [==============================] - 15s 90ms/step - loss: 0.2661 - accuracy: 0.8863\nEpoch 64/75\n163/163 [==============================] - 15s 89ms/step - loss: 0.2576 - accuracy: 0.8926\nEpoch 65/75\n163/163 [==============================] - 15s 91ms/step - loss: 0.2193 - accuracy: 0.9091\nEpoch 66/75\n163/163 [==============================] - 15s 89ms/step - loss: 0.2167 - accuracy: 0.9109\nEpoch 67/75\n163/163 [==============================] - 15s 91ms/step - loss: 0.2111 - accuracy: 0.9132\nEpoch 68/75\n163/163 [==============================] - 15s 90ms/step - loss: 0.2032 - accuracy: 0.9210\nEpoch 69/75\n163/163 [==============================] - 15s 94ms/step - loss: 0.2069 - accuracy: 0.9151\nEpoch 70/75\n163/163 [==============================] - 15s 90ms/step - loss: 0.1864 - accuracy: 0.9250\nEpoch 71/75\n163/163 [==============================] - 15s 93ms/step - loss: 0.2060 - accuracy: 0.9137\nEpoch 72/75\n163/163 [==============================] - 15s 90ms/step - loss: 0.1871 - accuracy: 0.9212\nEpoch 73/75\n163/163 [==============================] - 15s 93ms/step - loss: 0.1749 - accuracy: 0.9306\nEpoch 74/75\n163/163 [==============================] - 15s 90ms/step - loss: 0.1915 - accuracy: 0.9241\nEpoch 75/75\n163/163 [==============================] - 15s 90ms/step - loss: 0.1925 - accuracy: 0.9210\n",
          "output_type": "stream"
        },
        {
          "execution_count": 14,
          "output_type": "execute_result",
          "data": {
            "text/plain": "<keras.src.callbacks.History at 0x7f9e175d1480>"
          },
          "metadata": {}
        }
      ]
    },
    {
      "cell_type": "code",
      "source": [
        "test_x,test_y=Load_Images('/content/drive/MyDrive/chest_xray/test')"
      ],
      "metadata": {
        "execution": {
          "iopub.status.busy": "2024-01-18T18:39:10.741391Z",
          "iopub.execute_input": "2024-01-18T18:39:10.742910Z",
          "iopub.status.idle": "2024-01-18T18:39:20.725604Z",
          "shell.execute_reply.started": "2024-01-18T18:39:10.742854Z",
          "shell.execute_reply": "2024-01-18T18:39:20.723926Z"
        },
        "trusted": true,
        "id": "DlQy13d9737-",
        "outputId": "e7690839-2866-439b-99a7-a555f4399303"
      },
      "execution_count": null,
      "outputs": [
        {
          "name": "stdout",
          "text": "['PNEUMONIA', 'NORMAL', '.DS_Store']\n['PNEUMONIA', 'NORMAL']\n(array([0, 0, 0, 1, 1, 0, 0, 1, 0, 1, 1, 0, 1, 1, 1, 0, 1, 1, 0, 1, 0, 1,\n       1, 1, 0, 0, 1, 0, 1, 0, 0, 0, 0, 1, 1, 0, 1, 1, 1, 0, 1, 1, 1, 1,\n       1, 1, 1, 0, 1, 1, 1, 1, 0, 1, 1, 0, 1, 1, 1, 1, 1, 0, 0, 1, 0, 1,\n       1, 0, 1, 0, 1, 1, 1, 1, 1, 0, 0, 1, 1, 0, 0, 0, 0, 1, 1, 1, 0, 1,\n       1, 1, 1, 1, 0, 0, 0, 1, 1, 1, 1, 1, 1, 1, 0, 1, 1, 0, 1, 1, 0, 1,\n       1, 1, 1, 1, 1, 1, 1, 1, 1, 1, 1, 1, 1, 1, 0, 1, 1, 0, 0, 1, 0, 0,\n       1, 1, 1, 1, 1, 0, 1, 0, 1, 1, 0, 0, 1, 1, 1, 1, 1, 0, 0, 1, 1, 1,\n       1, 1, 1, 1, 0, 0, 0, 0, 1, 1, 0, 1, 1, 0, 0, 1, 1, 1, 0, 1, 0, 0,\n       0, 1, 0, 1, 1, 1, 0, 1, 0, 1, 1, 0, 0, 1, 1, 1, 1, 0, 1, 1, 0, 1,\n       1, 1, 1, 1, 0, 1, 0, 0, 0, 0, 1, 0, 0, 1, 1, 1, 0, 1, 1, 0, 1, 1,\n       1, 1, 0, 1, 0, 0, 1, 1, 1, 0, 1, 0, 1, 1, 1, 1, 0, 1, 1, 1, 1, 0,\n       1, 1, 0, 0, 0, 1, 1, 0, 1, 1, 1, 0, 1, 1, 1, 1, 0, 1, 1, 1, 0, 0,\n       1, 0, 0, 0, 0, 1, 1, 0, 1, 0, 1, 1, 1, 1, 1, 1, 1, 0, 0, 0, 0, 0,\n       1, 0, 0, 0, 1, 0, 1, 0, 1, 1, 0, 1, 1, 0, 1, 1, 0, 1, 1, 1, 0, 0,\n       1, 1, 1, 1, 1, 1, 1, 0, 0, 0, 1, 0, 0, 0, 0, 0, 0, 1, 1, 1, 1, 1,\n       1, 1, 1, 1, 0, 1, 1, 1, 0, 0, 1, 0, 0, 0, 0, 1, 1, 0, 0, 1, 1, 0,\n       0, 1, 1, 1, 0, 0, 1, 0, 1, 0, 1, 1, 1, 1, 1, 1, 0, 1, 1, 1, 1, 1,\n       1, 1, 0, 1, 1, 1, 0, 0, 0, 0, 0, 0, 0, 0, 1, 1, 2, 2, 2, 2, 2, 2,\n       2, 2, 2, 2, 2, 2, 2, 2, 2, 2, 2, 2, 2, 2, 2, 2, 2, 2, 2, 2, 2, 2,\n       2, 2, 2, 2, 2, 2, 2, 2, 2, 2, 2, 2, 2, 2, 2, 2, 2, 2, 2, 2, 2, 2,\n       2, 2, 2, 2, 2, 2, 2, 2, 2, 2, 2, 2, 2, 2, 2, 2, 2, 2, 2, 2, 2, 2,\n       2, 2, 2, 2, 2, 2, 2, 2, 2, 2, 2, 2, 2, 2, 2, 2, 2, 2, 2, 2, 2, 2,\n       2, 2, 2, 2, 2, 2, 2, 2, 2, 2, 2, 2, 2, 2, 2, 2, 2, 2, 2, 2, 2, 2,\n       2, 2, 2, 2, 2, 2, 2, 2, 2, 2, 2, 2, 2, 2, 2, 2, 2, 2, 2, 2, 2, 2,\n       2, 2, 2, 2, 2, 2, 2, 2, 2, 2, 2, 2, 2, 2, 2, 2, 2, 2, 2, 2, 2, 2,\n       2, 2, 2, 2, 2, 2, 2, 2, 2, 2, 2, 2, 2, 2, 2, 2, 2, 2, 2, 2, 2, 2,\n       2, 2, 2, 2, 2, 2, 2, 2, 2, 2, 2, 2, 2, 2, 2, 2, 2, 2, 2, 2, 2, 2,\n       2, 2, 2, 2, 2, 2, 2, 2, 2, 2, 2, 2, 2, 2, 2, 2, 2, 2, 2, 2, 2, 2,\n       2, 2, 2, 2, 2, 2, 2, 2]), array(['virus', 'bacteria', 'NORMAL'], dtype='<U8'))\n",
          "output_type": "stream"
        }
      ]
    },
    {
      "cell_type": "code",
      "source": [
        "model.evaluate(test_x,test_y)"
      ],
      "metadata": {
        "execution": {
          "iopub.status.busy": "2024-01-18T18:39:20.728240Z",
          "iopub.execute_input": "2024-01-18T18:39:20.728995Z",
          "iopub.status.idle": "2024-01-18T18:39:21.602046Z",
          "shell.execute_reply.started": "2024-01-18T18:39:20.728960Z",
          "shell.execute_reply": "2024-01-18T18:39:21.600788Z"
        },
        "trusted": true,
        "id": "qP9hEZAZ737-",
        "outputId": "015c5d8a-c0aa-45e2-aa24-e5355f002be2"
      },
      "execution_count": null,
      "outputs": [
        {
          "name": "stdout",
          "text": "20/20 [==============================] - 1s 25ms/step - loss: 1.5261 - accuracy: 0.7051\n",
          "output_type": "stream"
        },
        {
          "execution_count": 16,
          "output_type": "execute_result",
          "data": {
            "text/plain": "[1.5260964632034302, 0.7051281929016113]"
          },
          "metadata": {}
        }
      ]
    },
    {
      "cell_type": "code",
      "source": [
        "model.metrics_names"
      ],
      "metadata": {
        "execution": {
          "iopub.status.busy": "2024-01-18T18:39:21.604077Z",
          "iopub.execute_input": "2024-01-18T18:39:21.605723Z",
          "iopub.status.idle": "2024-01-18T18:39:21.614702Z",
          "shell.execute_reply.started": "2024-01-18T18:39:21.605674Z",
          "shell.execute_reply": "2024-01-18T18:39:21.613363Z"
        },
        "trusted": true,
        "id": "TpdnIMQT737_",
        "outputId": "119bd2c6-480e-472a-b5d2-574fef483e92"
      },
      "execution_count": null,
      "outputs": [
        {
          "execution_count": 17,
          "output_type": "execute_result",
          "data": {
            "text/plain": "['loss', 'accuracy']"
          },
          "metadata": {}
        }
      ]
    }
  ]
}